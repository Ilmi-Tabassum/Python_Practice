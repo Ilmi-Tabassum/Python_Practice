{
 "cells": [
  {
   "cell_type": "code",
   "execution_count": 36,
   "id": "ae83c959",
   "metadata": {},
   "outputs": [
    {
     "name": "stdout",
     "output_type": "stream",
     "text": [
      "Enter number of stars in length4\n",
      "Enter number of stars in columns5\n",
      "0 1 2 3 4 \n",
      "0       4 \n",
      "0       4 \n",
      "0 1 2 3 4 \n"
     ]
    }
   ],
   "source": [
    "M = int(input(\"Enter number of stars in length\" ))\n",
    "N = int(input(\"Enter number of stars in columns\" ))\n",
    "for i in range (M):\n",
    "    for j in range(N):\n",
    "#         print(i, end = \" \")\n",
    "        if(i ==0 or i ==M-1 or j==0 or j ==N-1):\n",
    "            print(j, end = \" \")\n",
    "  \n",
    "        else:\n",
    "            print(\" \" , end= \" \")\n",
    "    print()\n",
    "    \n",
    "        \n",
    "        \n",
    "        "
   ]
  },
  {
   "cell_type": "code",
   "execution_count": 1,
   "id": "c5326087",
   "metadata": {},
   "outputs": [
    {
     "name": "stdout",
     "output_type": "stream",
     "text": [
      "Enter number of rows: 5\n",
      "        1 \n",
      "      1 2 \n",
      "    1 2 3 \n",
      "  1 2 3 4 \n",
      "1 2 3 4 5 \n"
     ]
    }
   ],
   "source": [
    "n = int(input(\"Enter number of rows: \"))\n",
    "for i in range(n):\n",
    "    for j in range(n-i-1):\n",
    "        print(\" \", end=\" \")\n",
    "    for j in range (i+1):\n",
    "        print(j+1,end=\" \")\n",
    "    print()\n",
    "    "
   ]
  },
  {
   "cell_type": "code",
   "execution_count": 2,
   "id": "421ceb9f",
   "metadata": {},
   "outputs": [
    {
     "name": "stdout",
     "output_type": "stream",
     "text": [
      "Enter number of rows5\n",
      "1 \n",
      "1 2 \n",
      "1 2 3 \n",
      "1 2 3 4 \n",
      "1 2 3 4 5 \n"
     ]
    }
   ],
   "source": [
    "N = int(input(\"Enter number of rows\" ))\n",
    "\n",
    "for i in range (1, N+1):\n",
    "    for j in range(1, i+1):\n",
    "        print(j, end = \" \")\n",
    "    print()\n",
    "    "
   ]
  },
  {
   "cell_type": "code",
   "execution_count": 23,
   "id": "98b5a90b",
   "metadata": {},
   "outputs": [
    {
     "name": "stdout",
     "output_type": "stream",
     "text": [
      "Enter number of rows: 5\n",
      "        0  \n",
      "      0  1  \n",
      "    0  1  4  \n",
      "  0  1  4  9  \n",
      "0  1  4  9  16  \n"
     ]
    }
   ],
   "source": [
    "n = int(input(\"Enter number of rows: \"))\n",
    "for i in range(n):\n",
    "    for j in range(n-i-1):\n",
    "        print(\" \", end=\" \")\n",
    "    for j in range (i+1):\n",
    "        print(j**2,end=\"  \")\n",
    "    print()\n",
    "    "
   ]
  },
  {
   "cell_type": "code",
   "execution_count": 20,
   "id": "7dcea246",
   "metadata": {},
   "outputs": [
    {
     "name": "stdout",
     "output_type": "stream",
     "text": [
      "Enter number of rows: 5\n",
      "1 2 3 4 5 \n",
      "1 2 3 4 \n",
      "1 2 3 \n",
      "1 2 \n",
      "1 \n"
     ]
    }
   ],
   "source": [
    "n = int(input(\"Enter number of rows: \"))\n",
    "for row in range(n,0,-1):\n",
    "    for col in range(1, row+1):\n",
    "        print(col,end=\" \")\n",
    "    print()\n",
    "    \n",
    "    "
   ]
  },
  {
   "cell_type": "code",
   "execution_count": 6,
   "id": "77c4b2c0",
   "metadata": {},
   "outputs": [
    {
     "name": "stdout",
     "output_type": "stream",
     "text": [
      "Enter number of rows: 6\n",
      "666666\n",
      "55555\n",
      "4444\n",
      "333\n",
      "22\n",
      "1\n"
     ]
    }
   ],
   "source": [
    "n = int(input(\"Enter number of rows: \"))\n",
    "for row in range(n,0,-1):\n",
    "    for col in range(1, row+1):\n",
    "        print(row,end=\"\")\n",
    "    print()\n",
    "    "
   ]
  },
  {
   "cell_type": "code",
   "execution_count": 16,
   "id": "e68320c2",
   "metadata": {},
   "outputs": [
    {
     "name": "stdout",
     "output_type": "stream",
     "text": [
      "Enter number of rows: 5\n",
      "6 5 4 3 2 1 \n",
      "6 5 4 3 2 1 \n",
      "6 5 4 3 2 1 \n",
      "6 5 4 3 2 1 \n",
      "6 5 4 3 2 1 \n"
     ]
    }
   ],
   "source": [
    "n = int(input(\"Enter number of rows: \"))\n",
    "for row in range(n-1,-1,-1):\n",
    "    for col in range(n-i-1):\n",
    "        print(\" \", end=\"\")\n",
    "    for col in range (i,-1,-1):\n",
    "        print(col+1,end=\" \")\n",
    "    print()\n",
    "    "
   ]
  },
  {
   "cell_type": "code",
   "execution_count": null,
   "id": "122156df",
   "metadata": {},
   "outputs": [],
   "source": []
  },
  {
   "cell_type": "code",
   "execution_count": 26,
   "id": "1853ee8a",
   "metadata": {},
   "outputs": [
    {
     "name": "stdout",
     "output_type": "stream",
     "text": [
      "Enter number of rows: 5\n",
      "            0  \n",
      "         0  1  4  \n",
      "      0  1  4  9  16  \n",
      "   0  1  4  9  16  25  36  \n",
      "0  1  4  9  16  25  36  49  64  \n"
     ]
    }
   ],
   "source": [
    "n = int(input(\"Enter number of rows: \"))\n",
    "for i in range(n):\n",
    "    for j in range(n-i-1):\n",
    "        print(\" \", end=\"  \")\n",
    "    for j in range (2*i+1):\n",
    "        print(j**2,end=\"  \")\n",
    "    print()\n",
    "    "
   ]
  },
  {
   "cell_type": "code",
   "execution_count": 32,
   "id": "fe33935e",
   "metadata": {},
   "outputs": [
    {
     "name": "stdout",
     "output_type": "stream",
     "text": [
      "Enter a number of rows6\n",
      "0           \n",
      "0 1         \n",
      "0   2       \n",
      "0     3     \n",
      "0       4   \n",
      "0 1 2 3 4 5 \n"
     ]
    }
   ],
   "source": [
    "n = int(input(\"Enter a number of rows\"))\n",
    "for row in range(n):\n",
    "    for col in range(n):\n",
    "        if col==0 or row==(n-1) or row==col:\n",
    "             print(col,end=\" \")\n",
    "        else:\n",
    "            print(end=\"  \")\n",
    "    print()\n",
    "            \n",
    "            "
   ]
  },
  {
   "cell_type": "code",
   "execution_count": 37,
   "id": "3707a30d",
   "metadata": {},
   "outputs": [
    {
     "name": "stdout",
     "output_type": "stream",
     "text": [
      "Enter a number of rows6\n",
      "1 2 3 4 5 \n",
      " 1 2 3 4 \n",
      "  1 2 3 \n",
      "   1 2 \n",
      "    1 \n"
     ]
    }
   ],
   "source": [
    "n = int(input(\"Enter a number of rows\"))\n",
    "for i  in range(n,1,-1):\n",
    "    for j in range(0,n-i):\n",
    "        print(end=\" \")\n",
    "    for j in range(1,i):\n",
    "        print(j, end=\" \")\n",
    "    print()\n",
    "    \n",
    "    "
   ]
  },
  {
   "cell_type": "code",
   "execution_count": 48,
   "id": "56d800d6",
   "metadata": {},
   "outputs": [
    {
     "name": "stdout",
     "output_type": "stream",
     "text": [
      "Enter rows: 7\n",
      "1   3   5   7   9   11   13 \n",
      "  2                   12   \n",
      "    3               11     \n",
      "      4           10       \n",
      "        5       9         \n",
      "          6   8           \n",
      "            7             \n"
     ]
    }
   ],
   "source": [
    "n = int(input(\"Enter rows: \"))\n",
    "for i in range(1, n+1):\n",
    "    for j in range(1, 2*n):\n",
    "        if(i==1 and j%2!= 0) or (i==j or i+j== n*2):\n",
    "            print(j, end = \" \")\n",
    "        else:\n",
    "            print(\" \", end=\" \")\n",
    "    print()\n",
    "        "
   ]
  },
  {
   "cell_type": "code",
   "execution_count": 54,
   "id": "9a3a0d4f",
   "metadata": {},
   "outputs": [
    {
     "name": "stdout",
     "output_type": "stream",
     "text": [
      "Enter rows: 6\n",
      "1   3   5   7   9   11 \n",
      "  2               10   \n",
      "    3           9     \n",
      "      4       8       \n",
      "        5   7         \n",
      "          6           \n"
     ]
    }
   ],
   "source": [
    "n = int(input(\"Enter rows: \"))\n",
    "for i in range(1, n+1):\n",
    "    for j in range(1, 2*n):\n",
    "        if(i==1 and j%2!=0 or i==j or i+j== n*2):\n",
    "            print(j, end = \" \")\n",
    "        else:\n",
    "            print(\" \", end=\" \")\n",
    "    print()\n",
    "        "
   ]
  },
  {
   "cell_type": "code",
   "execution_count": 53,
   "id": "1aadf67f",
   "metadata": {},
   "outputs": [
    {
     "name": "stdout",
     "output_type": "stream",
     "text": [
      "Enter rows: 7\n",
      "1 2 3 4 5 6 7 8 9 10 11 12 13 \n",
      "  2                   12   \n",
      "    3               11     \n",
      "      4           10       \n",
      "        5       9         \n",
      "          6   8           \n",
      "            7             \n"
     ]
    }
   ],
   "source": [
    "n = int(input(\"Enter rows: \"))\n",
    "for i in range(1, n+1):\n",
    "    for j in range(1, 2*n):\n",
    "        if(i==1  or i==j or i+j== n*2):\n",
    "            print(j, end = \" \")\n",
    "        else:\n",
    "            print(\" \", end=\" \")\n",
    "    print()\n",
    "    "
   ]
  },
  {
   "cell_type": "code",
   "execution_count": 57,
   "id": "0c60bbde",
   "metadata": {},
   "outputs": [
    {
     "name": "stdout",
     "output_type": "stream",
     "text": [
      "Enter the rows: 6\n",
      "1 \n",
      "2   \n",
      "3   12 \n",
      "4   13   \n",
      "5   14   19 \n",
      "6   15   20   \n"
     ]
    }
   ],
   "source": [
    "n = int(input(\"Enter the rows: \"))\n",
    "for i in range(n):\n",
    "    for j in range(i+1):\n",
    "        x=0\n",
    "        for k in range(j):\n",
    "            x = x+n-k\n",
    "        if( j % 2 == 0):\n",
    "            print(x+i-j+1, end=\" \")\n",
    "        else:\n",
    "            print(\" \", end=\" \")\n",
    "    print()\n"
   ]
  },
  {
   "cell_type": "code",
   "execution_count": 1,
   "id": "5d7340cc",
   "metadata": {},
   "outputs": [
    {
     "name": "stdout",
     "output_type": "stream",
     "text": [
      "Enter  a number: 678\n",
      "8 , 7 , 6 , "
     ]
    }
   ],
   "source": [
    "#Id problems\n",
    "\n",
    "number = int(input(\"Enter  a number: \"))\n",
    "x= 0\n",
    "y = 0\n",
    "while(number>0):\n",
    "    x = number%10\n",
    "    y = number//10\n",
    "    print(x,end= \" , \")  \n",
    "    number=y  \n",
    "    "
   ]
  },
  {
   "cell_type": "code",
   "execution_count": 87,
   "id": "a4473db2",
   "metadata": {
    "scrolled": true
   },
   "outputs": [
    {
     "name": "stdout",
     "output_type": "stream",
     "text": [
      "total digit:  8\n",
      "1 ,odd = 1\n",
      "7 ,odd = 7\n",
      "1 ,odd = 1\n",
      "0 ,even = 0\n",
      "1 ,odd = 1\n",
      "1 ,odd = 1\n",
      "3 ,odd = 3\n",
      "0 ,even = 0\n",
      "Sumodd:  14\n",
      "SumEven:  0\n"
     ]
    }
   ],
   "source": [
    "sumEven = 0\n",
    "sumOdd =0\n",
    "sum1 = 0\n",
    "count = 0\n",
    "number = 17101130\n",
    "k = 17101130\n",
    "while(k>0):\n",
    "    k = k//10\n",
    "    count = count + 1\n",
    "print(\"total digit: \" ,count)\n",
    "power = 10**(count-1)\n",
    "\n",
    "\n",
    "\n",
    "for i in range (count):\n",
    "    l=number//power\n",
    "    number=number%power\n",
    "    print(l, end= \" ,\")\n",
    "    if(l % 2 == 0):\n",
    "       \n",
    "   \n",
    "        print(\"even =\", l)\n",
    "        sum1 = sum1 + l\n",
    "      \n",
    "    else:\n",
    "        print(\"odd =\", l)\n",
    "        sumOdd = sumOdd+ l\n",
    "    power = power // 10\n",
    "        \n",
    " \n",
    "    \n",
    "print(\"Sumodd: \", sumOdd)\n",
    "print(\"SumEven: \" , sum1)    \n",
    "\n",
    "\n",
    "\n"
   ]
  },
  {
   "cell_type": "markdown",
   "id": "5551f125",
   "metadata": {},
   "source": [
    "### N = int(input(\"Enter a number\" ))\n",
    "b = \" \"\n",
    "div = N\n",
    "while(div>0):\n",
    "    digit = div%2\n",
    "    div = div//2\n",
    "    b = str(digit)+ b\n",
    "print(\"Binary : \", b)\n",
    "        "
   ]
  },
  {
   "cell_type": "code",
   "execution_count": 4,
   "id": "42d0b840",
   "metadata": {},
   "outputs": [
    {
     "name": "stdout",
     "output_type": "stream",
     "text": [
      "please enter the maximum value: 17101130\n",
      "The sum of Even numbers 1 to 17101130 = 73112170369790\n",
      "The sum of odd numbers 1 to 17101130 = 73112161819225\n"
     ]
    }
   ],
   "source": [
    "max=int(input(\"please enter the maximum value: \"))\n",
    "even_Sum=0\n",
    "odd_Sum=0\n",
    "for num in range(1,max+1):\n",
    "    if (num%2==0):\n",
    "        even_Sum=even_Sum+num\n",
    "    else:\n",
    "        odd_Sum=odd_Sum+num\n",
    "print(\"The sum of Even numbers 1 to {0} = {1}\".format(num,even_Sum))\n",
    "print(\"The sum of odd numbers 1 to {0} = {1}\".format(num,odd_Sum))\n"
   ]
  },
  {
   "cell_type": "code",
   "execution_count": 95,
   "id": "0e6859bd",
   "metadata": {},
   "outputs": [
    {
     "ename": "KeyboardInterrupt",
     "evalue": "Interrupted by user",
     "output_type": "error",
     "traceback": [
      "\u001b[1;31m---------------------------------------------------------------------------\u001b[0m",
      "\u001b[1;31mKeyboardInterrupt\u001b[0m                         Traceback (most recent call last)",
      "\u001b[1;32m<ipython-input-95-68e309c3c263>\u001b[0m in \u001b[0;36m<module>\u001b[1;34m\u001b[0m\n\u001b[1;32m----> 1\u001b[1;33m \u001b[0mnumber\u001b[0m \u001b[1;33m=\u001b[0m \u001b[0mint\u001b[0m\u001b[1;33m(\u001b[0m\u001b[0minput\u001b[0m\u001b[1;33m(\u001b[0m\u001b[1;34m\"enter a number\"\u001b[0m\u001b[1;33m)\u001b[0m\u001b[1;33m)\u001b[0m\u001b[1;33m\u001b[0m\u001b[1;33m\u001b[0m\u001b[0m\n\u001b[0m\u001b[0;32m      2\u001b[0m \u001b[1;33m\u001b[0m\u001b[0m\n\u001b[0;32m      3\u001b[0m \u001b[1;32mfor\u001b[0m \u001b[0mnum\u001b[0m \u001b[1;32min\u001b[0m \u001b[0mrange\u001b[0m\u001b[1;33m(\u001b[0m\u001b[0mnumber\u001b[0m\u001b[1;33m)\u001b[0m\u001b[1;33m:\u001b[0m\u001b[1;33m\u001b[0m\u001b[1;33m\u001b[0m\u001b[0m\n\u001b[0;32m      4\u001b[0m     \u001b[0msum1\u001b[0m \u001b[1;33m=\u001b[0m \u001b[1;36m0\u001b[0m\u001b[1;33m\u001b[0m\u001b[1;33m\u001b[0m\u001b[0m\n\u001b[0;32m      5\u001b[0m     \u001b[1;32mfor\u001b[0m \u001b[0mi\u001b[0m \u001b[1;32min\u001b[0m \u001b[0mrange\u001b[0m\u001b[1;33m(\u001b[0m\u001b[1;36m1\u001b[0m\u001b[1;33m,\u001b[0m\u001b[0mnum\u001b[0m\u001b[1;33m)\u001b[0m\u001b[1;33m:\u001b[0m\u001b[1;33m\u001b[0m\u001b[1;33m\u001b[0m\u001b[0m\n",
      "\u001b[1;32mC:\\anaconda_env\\env\\lib\\site-packages\\ipykernel\\kernelbase.py\u001b[0m in \u001b[0;36mraw_input\u001b[1;34m(self, prompt)\u001b[0m\n\u001b[0;32m    858\u001b[0m                 \u001b[1;34m\"raw_input was called, but this frontend does not support input requests.\"\u001b[0m\u001b[1;33m\u001b[0m\u001b[1;33m\u001b[0m\u001b[0m\n\u001b[0;32m    859\u001b[0m             )\n\u001b[1;32m--> 860\u001b[1;33m         return self._input_request(str(prompt),\n\u001b[0m\u001b[0;32m    861\u001b[0m             \u001b[0mself\u001b[0m\u001b[1;33m.\u001b[0m\u001b[0m_parent_ident\u001b[0m\u001b[1;33m,\u001b[0m\u001b[1;33m\u001b[0m\u001b[1;33m\u001b[0m\u001b[0m\n\u001b[0;32m    862\u001b[0m             \u001b[0mself\u001b[0m\u001b[1;33m.\u001b[0m\u001b[0m_parent_header\u001b[0m\u001b[1;33m,\u001b[0m\u001b[1;33m\u001b[0m\u001b[1;33m\u001b[0m\u001b[0m\n",
      "\u001b[1;32mC:\\anaconda_env\\env\\lib\\site-packages\\ipykernel\\kernelbase.py\u001b[0m in \u001b[0;36m_input_request\u001b[1;34m(self, prompt, ident, parent, password)\u001b[0m\n\u001b[0;32m    902\u001b[0m             \u001b[1;32mexcept\u001b[0m \u001b[0mKeyboardInterrupt\u001b[0m\u001b[1;33m:\u001b[0m\u001b[1;33m\u001b[0m\u001b[1;33m\u001b[0m\u001b[0m\n\u001b[0;32m    903\u001b[0m                 \u001b[1;31m# re-raise KeyboardInterrupt, to truncate traceback\u001b[0m\u001b[1;33m\u001b[0m\u001b[1;33m\u001b[0m\u001b[1;33m\u001b[0m\u001b[0m\n\u001b[1;32m--> 904\u001b[1;33m                 \u001b[1;32mraise\u001b[0m \u001b[0mKeyboardInterrupt\u001b[0m\u001b[1;33m(\u001b[0m\u001b[1;34m\"Interrupted by user\"\u001b[0m\u001b[1;33m)\u001b[0m \u001b[1;32mfrom\u001b[0m \u001b[1;32mNone\u001b[0m\u001b[1;33m\u001b[0m\u001b[1;33m\u001b[0m\u001b[0m\n\u001b[0m\u001b[0;32m    905\u001b[0m             \u001b[1;32mexcept\u001b[0m \u001b[0mException\u001b[0m \u001b[1;32mas\u001b[0m \u001b[0me\u001b[0m\u001b[1;33m:\u001b[0m\u001b[1;33m\u001b[0m\u001b[1;33m\u001b[0m\u001b[0m\n\u001b[0;32m    906\u001b[0m                 \u001b[0mself\u001b[0m\u001b[1;33m.\u001b[0m\u001b[0mlog\u001b[0m\u001b[1;33m.\u001b[0m\u001b[0mwarning\u001b[0m\u001b[1;33m(\u001b[0m\u001b[1;34m\"Invalid Message:\"\u001b[0m\u001b[1;33m,\u001b[0m \u001b[0mexc_info\u001b[0m\u001b[1;33m=\u001b[0m\u001b[1;32mTrue\u001b[0m\u001b[1;33m)\u001b[0m\u001b[1;33m\u001b[0m\u001b[1;33m\u001b[0m\u001b[0m\n",
      "\u001b[1;31mKeyboardInterrupt\u001b[0m: Interrupted by user"
     ]
    }
   ],
   "source": [
    "number = int(input(\"enter a number\"))   \n",
    "   \n",
    "for num in range(number):  \n",
    "    sum1 = 0\n",
    "    for i in range(1,num):\n",
    "        if(num%i == 0):\n",
    "            sum1 = sum1 + i\n",
    "    if(num == sum1):\n",
    "        print(num, \"Perfect Number\" )\n",
    "        \n",
    "        \n",
    "    if( num >1):\n",
    "        for i in range(2, num):\n",
    "            if(num % i == 0):\n",
    "                break\n",
    "        else:\n",
    "            count = count+1\n",
    "            print(num, \" \" \"Prime Number\")\n",
    "    \n",
    "  \n"
   ]
  },
  {
   "cell_type": "code",
   "execution_count": null,
   "id": "704e5040",
   "metadata": {},
   "outputs": [],
   "source": [
    "number = 123\n",
    "\n",
    "sum_of_digits = 0\n",
    "for digit in str(number):\n",
    "\n",
    "\n"
   ]
  },
  {
   "cell_type": "code",
   "execution_count": null,
   "id": "92473f7d",
   "metadata": {},
   "outputs": [],
   "source": [
    "sumEven = 0\n",
    "sumOdd =0\n",
    "sum1 = 0\n",
    "count = 0\n",
    "number = 17101130\n",
    "k = 17101130\n",
    "while(k>0):\n",
    "    k = k//10\n",
    "    count = count + 1\n",
    "print(\"total digit: \" ,count)\n",
    "power = 10**(count-1)\n",
    "\n",
    "\n",
    "\n",
    "for i in range (count):\n",
    "    l=number//power\n",
    "    number=number%power\n",
    "    print(l, end= \" ,\")\n",
    "    \n",
    "   \n",
    "        print(\"even =\", l)\n",
    "        sum1 = sum1 + l\n",
    "      \n",
    "    else:\n",
    "        print(\"odd =\", l)\n",
    "        sumOdd = sumOdd+ l\n",
    "    power = power // 10\n",
    "        \n",
    " \n",
    "    \n",
    "print(\"Sumodd: \", sumOdd)\n",
    "print(\"SumEven: \" , sum1)    \n"
   ]
  },
  {
   "cell_type": "code",
   "execution_count": 98,
   "id": "c1a97311",
   "metadata": {},
   "outputs": [
    {
     "name": "stdout",
     "output_type": "stream",
     "text": [
      "No\n"
     ]
    }
   ],
   "source": [
    "def checkDigits(n):\n",
    " \n",
    "    # check all digits are\n",
    "    # prime or not\n",
    "    while (n) :\n",
    "        dig = n % 10\n",
    " \n",
    "      \n",
    "        if (dig != 2 and dig != 3 and dig != 5 and dig != 7) :\n",
    "            return 0\n",
    "        n = n / 10\n",
    " \n",
    "    return 1\n",
    " \n",
    "# To check if n is prime or not\n",
    "def prime(n):\n",
    "    if (n == 1):\n",
    "        return 0\n",
    "         \n",
    "    # check for all factors\n",
    "    i = 2\n",
    "    while i * i <= n :\n",
    "        if (n % i == 0):\n",
    "            return 0\n",
    "        i = i + 1\n",
    "    return 1\n",
    " \n",
    "# To check if n is Full Prime\n",
    "def isFullPrime(n) :\n",
    "    return (checkDigits(n) and prime(n))\n",
    " \n",
    "# Driver code\n",
    "n = 53\n",
    "if (isFullPrime(n)) :\n",
    "    print(\"Yes\")\n",
    "else :\n",
    "    print(\"No\")\n",
    "    \n"
   ]
  },
  {
   "cell_type": "code",
   "execution_count": 102,
   "id": "5980200d",
   "metadata": {},
   "outputs": [
    {
     "name": "stdout",
     "output_type": "stream",
     "text": [
      "Enter a number 17101130\n",
      "total digit:  8\n",
      "17101130 is not a Prime Number\n",
      "17101130 is not a Prime Number\n",
      "17101130 is not a Prime Number\n",
      "17101130 is not a Prime Number\n",
      "17101130 is not a Prime Number\n",
      "17101130 is not a Prime Number\n",
      "17101130 is not a Prime Number\n",
      "17101130 is not a Prime Number\n"
     ]
    }
   ],
   "source": [
    "count = 0\n",
    "number = int(input(\"Enter a number \"))\n",
    "k = number\n",
    "while(k>0):\n",
    "    k = k//10\n",
    "    count = count + 1\n",
    "print(\"total digit: \" ,count)\n",
    "power = 10**(count-1)\n",
    "\n",
    "\n",
    "\n",
    "for i in range (count):\n",
    "    l=number//power\n",
    "    if number > 1:\n",
    "        for i in range(2,int(number/2)+1):\n",
    "            if (number % i == 0):\n",
    "                print(number, \"is not a Prime Number\")\n",
    "                break\n",
    "        else:\n",
    "            print(number,\"is a Prime number\")\n",
    "# If the number is less than 1 it can't be Prime    \n",
    "    else:\n",
    "        print(number,\"is not a Prime number\")\n",
    "        print(l, end = \" , \")\n",
    "        number=number%power\n",
    " \n",
    "        power = power // 10\n",
    "    \n",
    "\n",
    "\n",
    "    \n",
    "    "
   ]
  },
  {
   "cell_type": "code",
   "execution_count": 103,
   "id": "b59109d9",
   "metadata": {
    "scrolled": true
   },
   "outputs": [
    {
     "name": "stdout",
     "output_type": "stream",
     "text": [
      "No\n"
     ]
    }
   ],
   "source": [
    "def checkDigits(n):\n",
    " \n",
    "    # check all digits are\n",
    "    # prime or not\n",
    "    while (n) :\n",
    "        dig = n % 10\n",
    " \n",
    "        # check if digits are\n",
    "        # prime or not\n",
    "        if (dig != 2 and\n",
    "                   dig != 3 and dig != 5\n",
    "                   and dig != 7) :\n",
    "            return 0\n",
    "        n = n / 10\n",
    " \n",
    "    return 1\n",
    " \n",
    "# To check if n is prime or not\n",
    "def prime(n):\n",
    "    if (n == 1):\n",
    "        return 0\n",
    "         \n",
    "    # check for all factors\n",
    "    i = 2\n",
    "    while i * i <= n :\n",
    "        if (n % i == 0):\n",
    "            return 0\n",
    "        i = i + 1\n",
    "    return 1\n",
    " \n",
    "# To check if n is Full Prime\n",
    "def isFullPrime(n) :\n",
    " \n",
    "    # The order is important here\n",
    "    # for efficiency.\n",
    "    return (checkDigits(n) and prime(n))\n",
    " \n",
    "# Driver code\n",
    "n = 53\n",
    "if (isFullPrime(n)) :\n",
    "    print(\"Yes\")\n",
    "else :\n",
    "    print(\"No\")\n",
    "    "
   ]
  },
  {
   "cell_type": "code",
   "execution_count": 7,
   "id": "024159e5",
   "metadata": {
    "scrolled": true
   },
   "outputs": [
    {
     "ename": "NameError",
     "evalue": "name 'n' is not defined",
     "output_type": "error",
     "traceback": [
      "\u001b[1;31m---------------------------------------------------------------------------\u001b[0m",
      "\u001b[1;31mNameError\u001b[0m                                 Traceback (most recent call last)",
      "\u001b[1;32m<ipython-input-7-86a64fadfab5>\u001b[0m in \u001b[0;36m<module>\u001b[1;34m\u001b[0m\n\u001b[0;32m      4\u001b[0m \u001b[1;32mfor\u001b[0m \u001b[0mk\u001b[0m \u001b[1;32min\u001b[0m \u001b[0mrange\u001b[0m\u001b[1;33m(\u001b[0m\u001b[1;36m0\u001b[0m\u001b[1;33m,\u001b[0m \u001b[1;36m2\u001b[0m\u001b[1;33m*\u001b[0m\u001b[0mb\u001b[0m\u001b[1;33m)\u001b[0m\u001b[1;33m:\u001b[0m\u001b[1;33m\u001b[0m\u001b[1;33m\u001b[0m\u001b[0m\n\u001b[0;32m      5\u001b[0m     \u001b[1;32mif\u001b[0m \u001b[0mk\u001b[0m\u001b[1;33m<\u001b[0m\u001b[1;36m4\u001b[0m\u001b[1;33m:\u001b[0m\u001b[1;33m\u001b[0m\u001b[1;33m\u001b[0m\u001b[0m\n\u001b[1;32m----> 6\u001b[1;33m         \u001b[1;32mfor\u001b[0m \u001b[0mrow\u001b[0m \u001b[1;32min\u001b[0m \u001b[0mrange\u001b[0m\u001b[1;33m(\u001b[0m\u001b[0mn\u001b[0m\u001b[1;33m,\u001b[0m\u001b[1;36m0\u001b[0m\u001b[1;33m,\u001b[0m\u001b[1;33m-\u001b[0m\u001b[1;36m1\u001b[0m\u001b[1;33m)\u001b[0m\u001b[1;33m:\u001b[0m\u001b[1;33m\u001b[0m\u001b[1;33m\u001b[0m\u001b[0m\n\u001b[0m\u001b[0;32m      7\u001b[0m             \u001b[1;32mfor\u001b[0m \u001b[0mcol\u001b[0m \u001b[1;32min\u001b[0m \u001b[0mrange\u001b[0m\u001b[1;33m(\u001b[0m\u001b[1;36m1\u001b[0m\u001b[1;33m,\u001b[0m \u001b[0mrow\u001b[0m\u001b[1;33m+\u001b[0m\u001b[1;36m1\u001b[0m\u001b[1;33m)\u001b[0m\u001b[1;33m:\u001b[0m\u001b[1;33m\u001b[0m\u001b[1;33m\u001b[0m\u001b[0m\n\u001b[0;32m      8\u001b[0m                 \u001b[0mprint\u001b[0m\u001b[1;33m(\u001b[0m\u001b[0mrow\u001b[0m\u001b[1;33m,\u001b[0m\u001b[0mend\u001b[0m\u001b[1;33m=\u001b[0m\u001b[1;34m\"\"\u001b[0m\u001b[1;33m)\u001b[0m\u001b[1;33m\u001b[0m\u001b[1;33m\u001b[0m\u001b[0m\n",
      "\u001b[1;31mNameError\u001b[0m: name 'n' is not defined"
     ]
    }
   ],
   "source": []
  },
  {
   "cell_type": "code",
   "execution_count": 18,
   "id": "978eadcb",
   "metadata": {},
   "outputs": [
    {
     "ename": "IndentationError",
     "evalue": "expected an indented block (<ipython-input-18-dbd78fdd7e1d>, line 14)",
     "output_type": "error",
     "traceback": [
      "\u001b[1;36m  File \u001b[1;32m\"<ipython-input-18-dbd78fdd7e1d>\"\u001b[1;36m, line \u001b[1;32m14\u001b[0m\n\u001b[1;33m    m = i+1\u001b[0m\n\u001b[1;37m    ^\u001b[0m\n\u001b[1;31mIndentationError\u001b[0m\u001b[1;31m:\u001b[0m expected an indented block\n"
     ]
    }
   ],
   "source": [
    "n = int(input(\"Enter number of rows: \"))\n",
    "for i in range(n):\n",
    "    m = i+1\n",
    "    for j in range(n-i-1):\n",
    "        print(\" \", end=\" \")\n",
    "    for j in range (i+1):\n",
    "        print(j+1,end=\" \")\n",
    "    print(end = \" \")\n",
    "    for j in range(i+1):\n",
    "        print(m,end =\" \")\n",
    "        m=m+1\n",
    "    print()\n",
    "    for i in range(n):\n",
    "    m = i+1\n",
    "    for j in range(i):\n",
    "        print(\" \", end=\" \")\n",
    "    for j in range (i+1):\n",
    "        print(n-i,end=\" \")\n",
    "    print(end = \" \")\n",
    "    for j in range(i+1):\n",
    "        print(m,end =\" \")\n",
    "        m=m+1\n",
    "    print()\n",
    "    "
   ]
  },
  {
   "cell_type": "code",
   "execution_count": 1,
   "id": "c8df5341",
   "metadata": {},
   "outputs": [
    {
     "name": "stdout",
     "output_type": "stream",
     "text": [
      "['h', 'g', 'f', 'e', 'd', 'c', 'b', 'a']\n"
     ]
    }
   ],
   "source": [
    "a_tuple = ('a', 'b', 'c', 'd', 'e', 'f', 'g', 'h')\n",
    "a_list = list(a_tuple)\n",
    "a_list.reverse()\n",
    "print(a_list)\n"
   ]
  },
  {
   "cell_type": "code",
   "execution_count": 34,
   "id": "cdd1346f",
   "metadata": {},
   "outputs": [
    {
     "name": "stdout",
     "output_type": "stream",
     "text": [
      "Enter number of rows: 5\n",
      "1 2 3 4 5 \n",
      "1 2 3 4 5 \n",
      "1 2 3 4 5 \n",
      "1 2 3 4 5 \n",
      "1 2 3 4 5 \n",
      "X \n",
      "X X \n",
      "X X X \n",
      "X X X X \n",
      "X X X X X \n"
     ]
    }
   ],
   "source": [
    "\n",
    "\n",
    "n = int(input(\"Enter number of rows: \"))\n",
    "for i in range(1,n):\n",
    "    if()\n",
    "for i in range(1,n+1,1):\n",
    "    for j in range (1, n+1,1):\n",
    "        print(j, end =\" \" )\n",
    "    print()\n",
    "    \n",
    "\n",
    "for i in range (1, n+1):\n",
    "    for j in range(1, i+1):\n",
    "        print(\"X\", end = \" \")\n",
    "    print()\n"
   ]
  },
  {
   "cell_type": "code",
   "execution_count": 6,
   "id": "305d9da2",
   "metadata": {},
   "outputs": [
    {
     "name": "stdout",
     "output_type": "stream",
     "text": [
      "Social Woker\n"
     ]
    }
   ],
   "source": [
    "leader = {'b':'haa', 'USA': {' Name':'trump','past' : 'business' }, 'Germany': {'Name':'Merkel','Past':'Social Woker'}}\n",
    "print(leader['Germany']['Past'])\n",
    "          "
   ]
  },
  {
   "cell_type": "code",
   "execution_count": 7,
   "id": "32241b2d",
   "metadata": {},
   "outputs": [
    {
     "name": "stdout",
     "output_type": "stream",
     "text": [
      "Retired\n"
     ]
    }
   ],
   "source": [
    "critker = {'sak':'75', 'mas': '2', 'tamin' : '28'}\n",
    "print(critker.get('Bash','Retired'))\n"
   ]
  },
  {
   "cell_type": "code",
   "execution_count": 8,
   "id": "5d6b0b8d",
   "metadata": {},
   "outputs": [
    {
     "name": "stdout",
     "output_type": "stream",
     "text": [
      "('mouse', [8, 5, 6], (1, 2, 3))\n"
     ]
    }
   ],
   "source": [
    "n_tuple= (\"mouse\",[8,4,6],(1,2,3))\n",
    "n_tuple[-2][1]=5\n",
    "print(n_tuple)\n"
   ]
  },
  {
   "cell_type": "code",
   "execution_count": 9,
   "id": "1f2b772b",
   "metadata": {},
   "outputs": [
    {
     "name": "stdout",
     "output_type": "stream",
     "text": [
      "('sakib', 3, 'sakib', 3, 'sakib', 3)\n"
     ]
    }
   ],
   "source": [
    "name=('sakib', 3)\n",
    "print(name*3)\n"
   ]
  },
  {
   "cell_type": "code",
   "execution_count": null,
   "id": "3aa7826b",
   "metadata": {},
   "outputs": [],
   "source": []
  }
 ],
 "metadata": {
  "kernelspec": {
   "display_name": "Python 3",
   "language": "python",
   "name": "python3"
  },
  "language_info": {
   "codemirror_mode": {
    "name": "ipython",
    "version": 3
   },
   "file_extension": ".py",
   "mimetype": "text/x-python",
   "name": "python",
   "nbconvert_exporter": "python",
   "pygments_lexer": "ipython3",
   "version": "3.9.5"
  }
 },
 "nbformat": 4,
 "nbformat_minor": 5
}
