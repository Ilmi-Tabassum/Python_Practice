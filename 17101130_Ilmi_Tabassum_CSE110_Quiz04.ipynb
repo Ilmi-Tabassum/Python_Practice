{
 "cells": [
  {
   "cell_type": "code",
   "execution_count": 9,
   "id": "bfaf30d4",
   "metadata": {},
   "outputs": [
    {
     "name": "stdout",
     "output_type": "stream",
     "text": [
      "thisismyfirstsemester\n",
      "['t', 'h', 'i', 's', 'i', 's', 'm', 'y', 'f', 'i', 'r', 's', 't', 's', 'e', 'm', 'e', 's', 't', 'e', 'r']\n",
      "{'t': 18, 'h': 1, 'i': 9, 's': 17, 'm': 15, 'y': 7, 'f': 8, 'r': 20, 'e': 19}\n"
     ]
    }
   ],
   "source": [
    "def quiz4(a):\n",
    "    print(a)\n",
    "    a_list = list(a)\n",
    "    print(a_list)\n",
    "    new_list = []\n",
    "    dict1 = {}\n",
    "    count = 0\n",
    "\n",
    "    for x in range (0 , len(a_list)):\n",
    "        new_list.clear()\n",
    "\n",
    "\n",
    "        for y in range(count, len(a_list)):\n",
    "\n",
    "            if(a_list[x]==a_list[y]):\n",
    "                new_list.append(y)\n",
    "                \n",
    "                dict1.update({a[x]:y})\n",
    "\n",
    "\n",
    "    print(dict1)\n",
    "\n",
    "\n",
    "\n",
    "a = \"this is my first semester\"\n",
    "string = a.replace(\" \", \"\")\n",
    "\n",
    "quiz4(string)\n"
   ]
  },
  {
   "cell_type": "code",
   "execution_count": null,
   "id": "4e1eb13e",
   "metadata": {},
   "outputs": [],
   "source": []
  }
 ],
 "metadata": {
  "kernelspec": {
   "display_name": "Python 3",
   "language": "python",
   "name": "python3"
  },
  "language_info": {
   "codemirror_mode": {
    "name": "ipython",
    "version": 3
   },
   "file_extension": ".py",
   "mimetype": "text/x-python",
   "name": "python",
   "nbconvert_exporter": "python",
   "pygments_lexer": "ipython3",
   "version": "3.9.6"
  }
 },
 "nbformat": 4,
 "nbformat_minor": 5
}
