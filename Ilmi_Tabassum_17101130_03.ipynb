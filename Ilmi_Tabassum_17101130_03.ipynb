{
 "cells": [
  {
   "cell_type": "code",
   "execution_count": 36,
   "id": "3342ac4c",
   "metadata": {},
   "outputs": [
    {
     "name": "stdout",
     "output_type": "stream",
     "text": [
      "Enter number of rows: 4\n",
      "Enter number of columns5\n",
      "1\n",
      "12\n",
      "123\n",
      "1234\n",
      "12345\n",
      "*  *  *  *  *  \n",
      "*  *  *  *  *  \n",
      "*  *  *  *  *  \n",
      "*  *  *  *  *  \n"
     ]
    }
   ],
   "source": [
    "n = int(input(\"Enter number of rows: \"))\n",
    "N = int(((input(\"Enter number of columns\"))))\n",
    "for i in range (1, N+1):\n",
    "    for j in range(1, i+1):\n",
    "        print(j, end = \"\")\n",
    "    print()    \n",
    "        \n",
    "# for i in range(n+1,1,-1):\n",
    "#     print(\" \"*(n+1-i), end=\" \")\n",
    "#     for j in range(1, i):\n",
    "#         print(\" =\",end= \"\")\n",
    "#     print()\n",
    "\n",
    "for i in range(n):\n",
    "    for j in range(N):\n",
    "        print('*', end = '  ')\n",
    "    print()\n"
   ]
  },
  {
   "cell_type": "code",
   "execution_count": 44,
   "id": "759b237c",
   "metadata": {},
   "outputs": [
    {
     "name": "stdout",
     "output_type": "stream",
     "text": [
      "Please Enter the Total Number of Rows  : 4\n",
      "Please Enter the Total Number of Columns  : 5\n",
      "Rectangle Star Pattern\n",
      "1  2  3  4  \n",
      "1  2  3  4  \n",
      "1  2  3  4  \n",
      "1  2  3  4  \n",
      "1  2  3  4  \n"
     ]
    }
   ],
   "source": [
    "\n",
    "rows = int(input(\"Please Enter the Total Number of Rows  : \"))\n",
    "columns = int(input(\"Please Enter the Total Number of Columns  : \"))\n",
    "\n",
    "print(\"Rectangle Star Pattern\") \n",
    "for i in range(columns):\n",
    "    for j in range(rows):\n",
    "        print(j+1, end = '  ')\n",
    "    print()\n",
    "    "
   ]
  },
  {
   "cell_type": "code",
   "execution_count": 49,
   "id": "f465e106",
   "metadata": {},
   "outputs": [
    {
     "name": "stdout",
     "output_type": "stream",
     "text": [
      "Enter A Lower Case String: python notebook\n",
      "pyTHOn nOTebOOk\n"
     ]
    }
   ],
   "source": [
    "\n",
    "\n",
    "str=input(\"Enter A Lower Case String: \")\n",
    "\n",
    "for i in range (1, len(str)):\n",
    "\n",
    "    if(i%3==0):\n",
    "        if str[i]>='a' and str[i]<='z' :\n",
    "            str = str.replace(str[i], chr(ord(str[i])-32))\n",
    "        else:\n",
    "            str = str.replace(str[i], chr(ord(str[i])))\n",
    "        i+=1\n",
    "print(str)\n"
   ]
  },
  {
   "cell_type": "code",
   "execution_count": 46,
   "id": "a4fbfcb1",
   "metadata": {},
   "outputs": [
    {
     "name": "stdout",
     "output_type": "stream",
     "text": [
      "Enter number of rows: 5\n",
      "Enter number of columns6\n",
      "1 = = = = = \n",
      "1 2 = = = = \n",
      "1 2 3 = = = \n",
      "1 2 3 4 = = \n",
      "1 2 3 4 5 = \n",
      "1 2 3 4 5 6 \n"
     ]
    }
   ],
   "source": [
    "n = int(input(\"Enter number of rows: \"))\n",
    "N = int(((input(\"Enter number of columns\"))))\n",
    "for i in range (1, N+1):\n",
    "    for j in range(1, i+1):\n",
    "        print(j, end = \" \")\n",
    "    for k in range (6-j):\n",
    "        print('=', end = ' ')\n",
    "    print()"
   ]
  },
  {
   "cell_type": "code",
   "execution_count": 52,
   "id": "5ec84301",
   "metadata": {},
   "outputs": [
    {
     "name": "stdout",
     "output_type": "stream",
     "text": [
      "Enter number of rows: 4\n",
      "Enter number of columns5\n",
      "1 = = = = = \n",
      "1 2 = = = = \n",
      "1 2 3 = = = \n",
      "1 2 3 4 = = \n",
      "1 2 3 4 5 = \n"
     ]
    }
   ],
   "source": [
    "n = int(input(\"Enter number of rows: \"))\n",
    "N = int(((input(\"Enter number of columns\"))))\n",
    "for i in range (1, N+1):\n",
    "    for j in range(1, i+1):\n",
    "        print(j, end = \" \")\n",
    "    for k in range (6-j):\n",
    "        print('=', end = ' ')\n",
    "    print()\n",
    "    "
   ]
  },
  {
   "cell_type": "code",
   "execution_count": null,
   "id": "1fee7de1",
   "metadata": {},
   "outputs": [],
   "source": []
  }
 ],
 "metadata": {
  "kernelspec": {
   "display_name": "Python 3",
   "language": "python",
   "name": "python3"
  },
  "language_info": {
   "codemirror_mode": {
    "name": "ipython",
    "version": 3
   },
   "file_extension": ".py",
   "mimetype": "text/x-python",
   "name": "python",
   "nbconvert_exporter": "python",
   "pygments_lexer": "ipython3",
   "version": "3.9.5"
  }
 },
 "nbformat": 4,
 "nbformat_minor": 5
}
