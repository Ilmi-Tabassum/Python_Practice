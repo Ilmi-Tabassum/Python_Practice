{
 "cells": [
  {
   "cell_type": "markdown",
   "metadata": {
    "id": "ZXvFDb3VLf5p"
   },
   "source": [
    "# CSE110 Lab Assignment 8 on File I/O & Exception\n",
    "\n",
    "Please write your name, student ID and CSE110 section below:\n",
    "\n",
    "\n"
   ]
  },
  {
   "cell_type": "code",
   "execution_count": null,
   "metadata": {
    "id": "ft6hkS9Oguhw"
   },
   "outputs": [],
   "source": [
    "#STUDENT NAME:Ilmi Tabassum\n",
    "#STUDENT ID:17101130\n",
    "#CSE110 SECTION: 03"
   ]
  },
  {
   "cell_type": "markdown",
   "metadata": {
    "id": "4fjLeMMMEEKB"
   },
   "source": [
    "**<font color='red'>[MUST MAINTAIN VARIABLE NAMING CONVENTIONS FOR ALL THE TASKS]</font>**\n",
    "\n",
    "## Part 1: File\n",
    "\n",
    "### Task 1\n",
    "\n",
    "Write a python program that reads the first n lines of a text file.\n",
    "\n",
    "Suppose you have a file with all these strings in a file.\n",
    "\n",
    "=========================================================\n",
    "\n",
    "I love Python Programming.\\\n",
    "It is very easy to understand the code.\\\n",
    "It can code very hard problems easily in python code.\\\n",
    "Python programming is the best programming language.\n",
    "\n",
    "=========================================================\n",
    "\n",
    "\n",
    "**Input :**\\\n",
    "2\\\n",
    "**Output :**\\\n",
    "I love Python Programming.\\\n",
    "It is very easy to understand the code.\n",
    "\n",
    "=========================================================\n",
    "\n",
    "**Hint(1):**\\\n",
    "Use counter to control line number.\n",
    "\n",
    "**Hint(2):**\\\n",
    "Use function readlines() to store in a list and then use loop\n",
    "\n",
    "OR you can use readline() in a loop.\n",
    "\n",
    "**Hint(3):**\\\n",
    "You might need to use strip() function"
   ]
  },
  {
   "cell_type": "code",
   "execution_count": 2,
   "metadata": {
    "colab": {
     "base_uri": "https://localhost:8080/"
    },
    "executionInfo": {
     "elapsed": 2589,
     "status": "ok",
     "timestamp": 1631037169181,
     "user": {
      "displayName": "ILMI TABASSUM",
      "photoUrl": "https://lh3.googleusercontent.com/a-/AOh14GgTXywyt_oWdsyO7FTi_LXn-Tk2SYspNXUJFoza=s64",
      "userId": "05857277389155166050"
     },
     "user_tz": -360
    },
    "id": "byXcdDnVvDCk",
    "outputId": "887ba4ac-1acd-4cf9-869c-f73a24ce2316"
   },
   "outputs": [
    {
     "name": "stdout",
     "output_type": "stream",
     "text": [
      "3\n",
      "I love Python Programming.\n",
      "\n",
      "It is very easy to understand the code.\n",
      "\n",
      "It can code very hard problems easily in python code.\n",
      "\n"
     ]
    }
   ],
   "source": [
    "fh = open(r\"C:\\Users\\Asus\\Desktop\\sample1.txt\",\"r\")\n",
    "lines=fh.readlines()\n",
    "number = int(input())\n",
    "\n",
    "counter=0\n",
    "for line in lines:\n",
    "    if(counter< number):\n",
    "        print(line)\n",
    "        counter=counter+1\n",
    "    "
   ]
  },
  {
   "cell_type": "markdown",
   "metadata": {
    "id": "6C9IjoWsEJlJ"
   },
   "source": [
    "### Task 2\n",
    "\n",
    "Write a python program to find the longest word in a file. Then print the word.\\\n",
    "**Input: [in a file]**\\\n",
    "I love Python Programming\\\n",
    "It is very easy to understand the code\\\n",
    "It can code very hard problems easily in python code\\\n",
    "Python programming is the best programming language\n",
    "\n",
    "\n",
    "\n",
    "**Output:**\\\n",
    "Programming\n",
    "\n",
    "=========================================================\n",
    "\n",
    "**Hint(1):**\\\n",
    "You can use split function to separate the words into a list.\n",
    "\n",
    "**Hint(2):**\\\n",
    "Use function readlines()"
   ]
  },
  {
   "cell_type": "code",
   "execution_count": 3,
   "metadata": {
    "colab": {
     "base_uri": "https://localhost:8080/"
    },
    "executionInfo": {
     "elapsed": 381,
     "status": "ok",
     "timestamp": 1631037178420,
     "user": {
      "displayName": "ILMI TABASSUM",
      "photoUrl": "https://lh3.googleusercontent.com/a-/AOh14GgTXywyt_oWdsyO7FTi_LXn-Tk2SYspNXUJFoza=s64",
      "userId": "05857277389155166050"
     },
     "user_tz": -360
    },
    "id": "7E8HidO5z4hW",
    "outputId": "f5b60f41-7a6b-4c78-ef20-8f0a182cfe39"
   },
   "outputs": [
    {
     "name": "stdout",
     "output_type": "stream",
     "text": [
      "The longest word in a file :  Programming.\n"
     ]
    }
   ],
   "source": [
    "fh = open(r\"C:\\Users\\Asus\\Desktop\\sample1.txt\",\"r\")\n",
    "lines=fh.readlines()\n",
    "\n",
    "array=[]\n",
    "for line in lines:\n",
    "    array.append(line.split())\n",
    "\n",
    "\n",
    "long_word=array[0][0]\n",
    "for row in array:\n",
    "    for word in row:\n",
    "        if(len(word)>len(long_word)):\n",
    "            long_word = word\n",
    "print(\"The longest word in a file : \" , long_word)\n",
    "fh.close()\n",
    "\n",
    "\n"
   ]
  },
  {
   "cell_type": "markdown",
   "metadata": {
    "id": "Y0dBzRxdEK1R"
   },
   "source": [
    "### Task 3\n",
    "Write a python program that allows you to erase multiple spaces in a text file. Then re-write the sentence without extra spaces in a another text file.\n",
    "\n",
    "=========================================================\n",
    "\n",
    "**Input:**\n",
    "\n",
    "I&nbsp;&nbsp;&nbsp;&nbsp;&nbsp;&nbsp;love  &nbsp;&nbsp;&nbsp;&nbsp;&nbsp;&nbsp;&nbsp;             Python   &nbsp;&nbsp;&nbsp;&nbsp;&nbsp;&nbsp;&nbsp;&nbsp;          Programming\n",
    "\n",
    "**Output:**\\\n",
    "I love Python Programming.\n",
    "\n",
    "=========================================================\n",
    "\n",
    "**Hints:**\\\n",
    "You can use split function to separate the words into a list.\n"
   ]
  },
  {
   "cell_type": "code",
   "execution_count": 4,
   "metadata": {
    "colab": {
     "base_uri": "https://localhost:8080/"
    },
    "executionInfo": {
     "elapsed": 412,
     "status": "ok",
     "timestamp": 1631041207343,
     "user": {
      "displayName": "ILMI TABASSUM",
      "photoUrl": "https://lh3.googleusercontent.com/a-/AOh14GgTXywyt_oWdsyO7FTi_LXn-Tk2SYspNXUJFoza=s64",
      "userId": "05857277389155166050"
     },
     "user_tz": -360
    },
    "id": "a0yJHr82ENWF",
    "outputId": "3e14808d-a959-4218-97da-bdc0d461c2d3"
   },
   "outputs": [
    {
     "name": "stdout",
     "output_type": "stream",
     "text": [
      "['I', 'love', 'Python', 'Programming']\n"
     ]
    }
   ],
   "source": [
    "#to do\n",
    "fh = open(r\"C:\\Users\\Asus\\Desktop\\sample1.txt\",\"w\")\n",
    "str1 = \"I      love         Python          Programming\"\n",
    "str2=str1.split()\n",
    "print(str2)\n",
    "fh.writelines(str2)\n"
   ]
  },
  {
   "cell_type": "markdown",
   "metadata": {
    "id": "OOFNxcqqENje"
   },
   "source": [
    "### Task 4\n",
    "Write a Python program to count the number of lines in a text file. Then, finally print the total number of lines.\n",
    "\n",
    "=========================================================\n",
    "\n",
    "**Input:**\\\n",
    "Hello\\\n",
    "What are you doing\\\n",
    "I am fine\n",
    "\n",
    "**Output:**\\\n",
    "3\n"
   ]
  },
  {
   "cell_type": "code",
   "execution_count": 5,
   "metadata": {
    "colab": {
     "base_uri": "https://localhost:8080/"
    },
    "executionInfo": {
     "elapsed": 382,
     "status": "ok",
     "timestamp": 1631043471371,
     "user": {
      "displayName": "ILMI TABASSUM",
      "photoUrl": "https://lh3.googleusercontent.com/a-/AOh14GgTXywyt_oWdsyO7FTi_LXn-Tk2SYspNXUJFoza=s64",
      "userId": "05857277389155166050"
     },
     "user_tz": -360
    },
    "id": "PRPocuTJEP0v",
    "outputId": "5beb6a3f-db49-4912-cd3d-18e9c9d9fac1"
   },
   "outputs": [
    {
     "name": "stdout",
     "output_type": "stream",
     "text": [
      "['IlovePythonProgramming']\n",
      "1\n"
     ]
    }
   ],
   "source": [
    "fh = open(r\"C:\\Users\\Asus\\Desktop\\sample1.txt\",\"r\")\n",
    "lines=fh.readlines()\n",
    "print(lines)\n",
    "print(len(lines))\n"
   ]
  },
  {
   "cell_type": "markdown",
   "metadata": {
    "id": "LiSNirheEQHf"
   },
   "source": [
    "### Task 5\n",
    "\n",
    "Write a Python program to combine each line from the first file with the corresponding line in the second file and then save it in a 3rd file.\n",
    "\n",
    "Consider, both the files have same number of lines. Assume, each line has a newline(\\n) at the end.\n",
    "\n",
    "=========================================================\n",
    "\n",
    "**Example:**\\\n",
    "**Input from file 1:**\\\n",
    "Hello\\\n",
    "Hi\\\n",
    "Nice\n",
    "\n",
    "**Input from file 2:**\\\n",
    "Bad\\\n",
    "Worse\\\n",
    "Worst\n",
    "\n",
    "**Output in 3rd FIle:**\\\n",
    "Hello Bad\\\n",
    "Hi Worse\\\n",
    "Nice Worst \n",
    "\n",
    "=========================================================\n",
    "\n",
    "**Hint(1):**\\\n",
    " Use the write() function\n",
    "\n",
    "\n",
    "\n"
   ]
  },
  {
   "cell_type": "code",
   "execution_count": 7,
   "metadata": {
    "colab": {
     "base_uri": "https://localhost:8080/"
    },
    "executionInfo": {
     "elapsed": 370,
     "status": "ok",
     "timestamp": 1631045673105,
     "user": {
      "displayName": "ILMI TABASSUM",
      "photoUrl": "https://lh3.googleusercontent.com/a-/AOh14GgTXywyt_oWdsyO7FTi_LXn-Tk2SYspNXUJFoza=s64",
      "userId": "05857277389155166050"
     },
     "user_tz": -360
    },
    "id": "kuPDGR5Yv5HC",
    "outputId": "405dd43f-df64-43dd-a35f-e20d652d3437"
   },
   "outputs": [
    {
     "name": "stdout",
     "output_type": "stream",
     "text": [
      "['Hello', 'Hi', 'Nice']\n",
      "['Bad', 'Worse', 'Worst']\n",
      "['Hello Bad\\n', 'Hi Worse\\n', 'Nice Worst\\n']\n"
     ]
    }
   ],
   "source": [
    "fh = open(r\"C:\\Users\\Asus\\Desktop\\text.txt\",\"r\")\n",
    "lines1=fh.readlines()\n",
    "fh = open(r\"C:\\Users\\Asus\\Desktop\\text1.txt\",\"r\")\n",
    "lines2=fh.readlines()\n",
    "\n",
    "for i in range(len(lines1)):\n",
    "    lines1[i]=lines1[i].strip()\n",
    "    lines2[i]=lines2[i].strip()\n",
    "\n",
    "print(lines1)\n",
    "print(lines2)\n",
    "newarray=[]\n",
    "for i in range(len(lines1)):\n",
    "    x=lines1[i]+\" \"+lines2[i]+\"\\n\"\n",
    "    newarray.append(x)\n",
    "print(newarray)\n",
    "fh = open(r\"C:\\Users\\Asus\\Desktop\\write.txt\",\"w\")\n",
    "fh.writelines(newarray)\n",
    "\n",
    "\n"
   ]
  },
  {
   "cell_type": "markdown",
   "metadata": {
    "id": "6J7MA_zNCbCg"
   },
   "source": [
    "## Part 2: Exception \n"
   ]
  },
  {
   "cell_type": "markdown",
   "metadata": {
    "id": "tZow-v3MLoLE"
   },
   "source": [
    "### Task 6\n",
    "Given a list named my_list.\n",
    "my_list=[10,20,30,40,60,100,2,5]\n",
    "\n",
    "Write a python program that takes the position as an input from the user and prints the element of that position from the list. \n",
    "\n",
    "If the user’s input position is not in the range, return an exception stating “Index out of range”.\n",
    "\n",
    "Make sure your program always prints “Program ended” at the end, no matter what happens.\n",
    "\n",
    "=============================\n",
    "\n",
    "**Hint:** Use finally block\n",
    "\n",
    "=============================\n",
    "\n",
    "**Example 1:** \\\n",
    "**Input:**\\\n",
    "1\\\n",
    "**Output:**\\\n",
    "20\\\n",
    "Program ended\n",
    "\n",
    "=============================\n",
    "\n",
    "**Example 2:** \\\n",
    "**Input:**\\\n",
    "10\\\n",
    "**Output:**\\\n",
    "Index out of range.\\\n",
    "Program ended\n"
   ]
  },
  {
   "cell_type": "code",
   "execution_count": 9,
   "metadata": {
    "colab": {
     "base_uri": "https://localhost:8080/"
    },
    "executionInfo": {
     "elapsed": 3944,
     "status": "ok",
     "timestamp": 1631046773125,
     "user": {
      "displayName": "ILMI TABASSUM",
      "photoUrl": "https://lh3.googleusercontent.com/a-/AOh14GgTXywyt_oWdsyO7FTi_LXn-Tk2SYspNXUJFoza=s64",
      "userId": "05857277389155166050"
     },
     "user_tz": -360
    },
    "id": "c9yKuS5kLdDO",
    "outputId": "8aec6a78-82d4-4ec8-ca89-f8cff4e59a8e"
   },
   "outputs": [
    {
     "name": "stdout",
     "output_type": "stream",
     "text": [
      "Enter index number10\n",
      "Index out of range.\n",
      "Program ended\n"
     ]
    }
   ],
   "source": [
    "my_list=[10,20,30,40,60,100,2,5]\n",
    "try:\n",
    "    index = int(input(\"Enter index number\"))\n",
    "    print(my_list[index])\n",
    "except IndexError:\n",
    "    print(\"Index out of range.\")\n",
    "finally:\n",
    "    print(\"Program ended\")\n"
   ]
  },
  {
   "cell_type": "markdown",
   "metadata": {
    "id": "gD4MMyO_Mtw4"
   },
   "source": [
    "### Task 7\n",
    "\n",
    "Suppose you have a dictionary named my_dictionary containing the name of some groceries and their prices.\\\n",
    "my_dictionary={“Potato”:12, “Onion”:16, “Ginger”:15, “Garlic”:12, “Tomato”:15}\n",
    "\n",
    "Now write a python program that takes the grocerie names as input from the users and shows the total price of the groceries.\n",
    "\n",
    "Some exceptions to handle:\n",
    "* Handle the exception when the given key is not present in the dictionary.\n",
    "* Handle the exception when the summation variable is not initialized. (the variable to store the total price has been initialized at 0 or not)\n",
    "\n",
    "=============================\n",
    "\n",
    "**Example 1:** \\\n",
    "**Input:**\\\n",
    "Potato,Onion,Ginger\\\n",
    "**Output:**\\\n",
    "43\n",
    "\n",
    "=============================\n",
    "\n",
    "**Example 2:** \\\n",
    "**Input:**\\\n",
    "Potato,Onion,Ginger,Beef\\\n",
    "**Output:**\\\n",
    "Some groceries are not available in the dictionary.\n"
   ]
  },
  {
   "cell_type": "code",
   "execution_count": 8,
   "metadata": {
    "colab": {
     "base_uri": "https://localhost:8080/"
    },
    "executionInfo": {
     "elapsed": 16181,
     "status": "ok",
     "timestamp": 1631124258174,
     "user": {
      "displayName": "ILMI TABASSUM",
      "photoUrl": "https://lh3.googleusercontent.com/a-/AOh14GgTXywyt_oWdsyO7FTi_LXn-Tk2SYspNXUJFoza=s64",
      "userId": "05857277389155166050"
     },
     "user_tz": -360
    },
    "id": "15umlUXTNe5N",
    "outputId": "d75d02e7-ee6b-43fd-ffc5-4033f1d5e1c6"
   },
   "outputs": [
    {
     "name": "stdout",
     "output_type": "stream",
     "text": [
      "Enter name:beef\n",
      "['beef']\n",
      "Enter name:poya\n",
      "['beef', 'poya']\n",
      "Enter name:lo\n",
      "['beef', 'poya', 'lo']\n",
      "Some groceries are not available in the dictionary.\n"
     ]
    }
   ],
   "source": [
    "my_dictionary={\"Potato\":12, \"Onion\":16, \"Ginger\":15, \"Garlic\":12, \"Tomato\":15}\n",
    "\n",
    "try:\n",
    "    sum = 0\n",
    "    list1=[]\n",
    "    for i in range(3):\n",
    "        list1.append(input(\"Enter name:\"))\n",
    "        print(list1)\n",
    "\n",
    "    for i in range(len(list1)):\n",
    "        sum = sum + my_dictionary[list1[i]]\n",
    "    print(sum)\n",
    "\n",
    "except KeyError:\n",
    "    print(\"Some groceries are not available in the dictionary.\")\n"
   ]
  },
  {
   "cell_type": "markdown",
   "metadata": {
    "id": "l5SgF6kTN7vY"
   },
   "source": [
    "### Task 8\n",
    "Write a python program that takes two lists as input from the user, multiplies the index wise elements of the two lists and adds it to a new variable. While doing the program you should handle the following exceptions:\n",
    "* Return an exception if an element in a list is not a number stating “The list has some non number values”.\n",
    "* Return an exception if there is an index out of bound stating “Index out of bound”.\n",
    "\n",
    "=============================\n",
    "\n",
    "**Example 1:** \\\n",
    "**Input:**\\\n",
    "list_one = [1, a, 2, 4]\\\n",
    "list_two =[5, 6, 7, 8]\\\n",
    "**Output:**\\\n",
    "The list has some non number values\n",
    "\n",
    "=================\n",
    "\n",
    "**Example 2:** \\\n",
    "**Input:**\\\n",
    "list_one=[1, 2, 3, 4, 5]\\\n",
    "list_two=[1, 2, 3, 4]\\\n",
    "**Output:**\\\n",
    "Index out of bound\n",
    "\n",
    "=================\n",
    "\n",
    "**Example 3:** \\\n",
    "**Input:**\\\n",
    "list_one=[1,2,3,4]\\\n",
    "list_two=[5,6,7,8]\\\n",
    "**Output:**\\\n",
    "70\n",
    "\n",
    "\n"
   ]
  },
  {
   "cell_type": "code",
   "execution_count": 7,
   "metadata": {
    "colab": {
     "base_uri": "https://localhost:8080/"
    },
    "executionInfo": {
     "elapsed": 445,
     "status": "ok",
     "timestamp": 1631124232774,
     "user": {
      "displayName": "ILMI TABASSUM",
      "photoUrl": "https://lh3.googleusercontent.com/a-/AOh14GgTXywyt_oWdsyO7FTi_LXn-Tk2SYspNXUJFoza=s64",
      "userId": "05857277389155166050"
     },
     "user_tz": -360
    },
    "id": "oFpEZFRhOlvV",
    "outputId": "91c790d9-077f-4bcd-e235-783d96f3f224"
   },
   "outputs": [
    {
     "name": "stdout",
     "output_type": "stream",
     "text": [
      "The list has some non number values\n"
     ]
    }
   ],
   "source": [
    "a = \"alphabet\"\n",
    "list_one = [1, 8, 2, 4]\n",
    "list_two =[5, 6, 7, 8]\n",
    "try:\n",
    "  for i in range(len(list_one)):\n",
    "    sum = sum+list_one[i]*list_two[i]\n",
    "\n",
    "  print(sum)\n",
    "except TypeError:\n",
    "  print(\"The list has some non number values\")\n",
    "except IndexError:\n",
    "  print(\"Index out of bound\")"
   ]
  },
  {
   "cell_type": "markdown",
   "metadata": {
    "id": "iBqIUN-WOnvW"
   },
   "source": [
    "### Task 9\n",
    "Write a python program that will take a string input from the user. Your task is to count the number of vowels and consonants in the string.\n",
    "\n",
    "Using try, if the number of vowels is greater than or equal to the number of consonants than raise a runtime error. Print 'Number of vowels greater/equal to consonants. Please paraphrase.'.\\\n",
    "Otherwise, print 'The sentence will work.'. \n",
    "\n",
    "**Note:** a,e,i,o,u are called vowels and all the other 21 english alphabets are consonants.\n",
    "\n",
    "=============================\n",
    "\n",
    "**Example 1:** \\\n",
    "**Input:**\\\n",
    "'his age is 10'\\\n",
    "**Output:**\\\n",
    "Number of vowels greater/equal to consonants. Please paraphrase.\n",
    "\n",
    "=================\n",
    "\n",
    "**Example 2:** \\\n",
    "**Input:**\\\n",
    "'he is 10 years old'\\\n",
    "**Output:**\\\n",
    "The sentence will work."
   ]
  },
  {
   "cell_type": "code",
   "execution_count": 1,
   "metadata": {
    "colab": {
     "base_uri": "https://localhost:8080/"
    },
    "executionInfo": {
     "elapsed": 9991,
     "status": "ok",
     "timestamp": 1631124082402,
     "user": {
      "displayName": "ILMI TABASSUM",
      "photoUrl": "https://lh3.googleusercontent.com/a-/AOh14GgTXywyt_oWdsyO7FTi_LXn-Tk2SYspNXUJFoza=s64",
      "userId": "05857277389155166050"
     },
     "user_tz": -360
    },
    "id": "-4kg2W2EPwVo",
    "outputId": "2694abc2-a9e3-4cae-9e61-b634479daaa2"
   },
   "outputs": [
    {
     "name": "stdout",
     "output_type": "stream",
     "text": [
      "Enter a string : he is 10 years old\n",
      "The sentence will work.\n"
     ]
    }
   ],
   "source": [
    "try:\n",
    "    string = input(\"Enter a string : \")\n",
    "    vowel = 0\n",
    "    consonant = 0\n",
    "    for i in range(len(string)):\n",
    "        if (ord(string[i])>=97 and ord(string[i])<=122):\n",
    "            if (string[i]=='a'or string[i]=='e' or string[i]=='i'or string[i]=='o' or string[i]=='u'):\n",
    "                vowel = vowel+1\n",
    "            else:\n",
    "                consonant =consonant+1\n",
    "    if(vowel>=consonant):\n",
    "        raise RuntimeError()\n",
    "    else:\n",
    "        print(\"The sentence will work.\")\n",
    "except RuntimeError:\n",
    "      print(\"Number of vowels greater/equal to consonants. Please paraphrase.\")\n"
   ]
  },
  {
   "cell_type": "markdown",
   "metadata": {
    "id": "pl4CDeUkPxeM"
   },
   "source": [
    "### Task 10\n",
    "Write a python program that finds the corresponding energy values from a list of frequency values which are taken as input from the user, using the formula, $E=h*f$, where h is a constant of value: 1050\n",
    "\n",
    "Exceptions to handle:\n",
    "* Make sure all elements in the lists are numbers\n",
    "\n",
    "=============================\n",
    "\n",
    "**Example 1:** \\\n",
    "**Input:**\\\n",
    "[2,3]\\\n",
    "**Output:**\\\n",
    "[2100, 3150]\n",
    "\n",
    "=================\n",
    "\n",
    "**Example 2:** \\\n",
    "**Input:**\\\n",
    "[2,boss]\\\n",
    "**Output:**\\\n",
    "Wrong input type"
   ]
  },
  {
   "cell_type": "code",
   "execution_count": null,
   "metadata": {
    "colab": {
     "base_uri": "https://localhost:8080/"
    },
    "executionInfo": {
     "elapsed": 12756,
     "status": "ok",
     "timestamp": 1631122427209,
     "user": {
      "displayName": "ILMI TABASSUM",
      "photoUrl": "https://lh3.googleusercontent.com/a-/AOh14GgTXywyt_oWdsyO7FTi_LXn-Tk2SYspNXUJFoza=s64",
      "userId": "05857277389155166050"
     },
     "user_tz": -360
    },
    "id": "vdYQH9qnQvVo",
    "outputId": "517d2540-447e-4e4e-d487-a5f8db139470"
   },
   "outputs": [
    {
     "name": "stdout",
     "output_type": "stream",
     "text": [
      "Enter of elements you want to enter in List_one :3\n",
      "Enter elements in List_one number cos\n",
      "Wrong input type\n"
     ]
    }
   ],
   "source": [
    "list_two = []\n",
    "h = 1050\n",
    "sum = 0\n",
    "try:\n",
    "    list_one = []\n",
    "    count = int(input(\"Enter of elements you want to enter in List_one :\"))\n",
    "    for i in range(count):\n",
    "        number= int(input(\"Enter elements in List_one number \"))\n",
    "        list_one.append(number)\n",
    "\n",
    "\n",
    "    for i in range(len(list_one)):\n",
    "        sum =list_one[i]*h\n",
    "\n",
    "        list_two.append(sum)\n",
    "    print(list_two)\n",
    "\n",
    "except ValueError:\n",
    "    print(\"Wrong input type\")\n"
   ]
  },
  {
   "cell_type": "markdown",
   "metadata": {
    "id": "GC6Y943uUNHY"
   },
   "source": [
    "### Task 11\n",
    "Imagine Salman Khan is going to the sets of a new movie. He decides to cycle everyday on his way to the sets. For that he uses a distance calculator which finds the distance based on the present day's date, which is asked as an input from the user. You should first take the day and then the month as your inputs.\n",
    "The inputs should be stored in variables named `day` and `month` The distance calculator uses the following formulae to calculate a number which dictates the number of kilometers he must cycle on his way to work.\n",
    "\n",
    "Distance = |if day<10, `5+(day*2)/month`\\\n",
    "&nbsp;&nbsp;&nbsp;&nbsp;&nbsp;&nbsp;&nbsp;&nbsp;&nbsp;&nbsp;&nbsp;&nbsp;&nbsp;&nbsp;&nbsp;&nbsp;&nbsp;&nbsp;&nbsp; |else, `3+(day/month)`\n",
    "\n",
    "\n",
    "Exceptions to handle:\\\n",
    "-Check for 0 division error exception\\\n",
    "-Type error exception when taking date as input(if the input does not contain number)\\\n",
    "-Value error exception, as day can not be greater than 31 and month can not be greater than 12\n",
    "\n",
    "\n",
    "\n",
    "\n",
    "\n",
    "=============================\n",
    "\n",
    "\n",
    "**Example 1:** \\\n",
    "**Input:**\\\n",
    "3\\\n",
    "5\\\n",
    "**Output:**\\\n",
    "6.2 kilometres\n",
    "\n",
    "=================\n",
    "\n",
    "**Example 2:** \\\n",
    "**Input:**\\\n",
    "2\\\n",
    "0\\\n",
    "**Output:**\\\n",
    "0 is not a valid month\n",
    "\n",
    "=============================\n",
    "\n",
    "**Example 3:** \\\n",
    "**Input:**\\\n",
    "35\\\n",
    "12\\\n",
    "**Output:**\\\n",
    "35 is not a valid day of any month\n",
    "\n",
    "=============================\n",
    "\n",
    "**Example 4:** \\\n",
    "**Input:**\\\n",
    "Hello\\\n",
    "12\\\n",
    "**Output:**\\\n",
    "Please do not enter any string as input\n",
    "\n",
    "=============================\n",
    "\n",
    "\n",
    "**Example 5:** \\\n",
    "**Input:**\\\n",
    "15\\\n",
    "12\\\n",
    "**Output:**\\\n",
    "4.25 kilometres\n",
    "\n",
    "\n",
    "**Hint(1):**\\\n",
    "Can use the built-in isdigit() function OR the ASCII values ensure numbers as inputs\n",
    "\n",
    "\n",
    "**Hint(2):**\\\n",
    "Print the outputs in the except block with the help of conditional statements\n",
    "\n",
    "\n"
   ]
  },
  {
   "cell_type": "code",
   "execution_count": null,
   "metadata": {
    "colab": {
     "base_uri": "https://localhost:8080/"
    },
    "executionInfo": {
     "elapsed": 10085,
     "status": "ok",
     "timestamp": 1631122390779,
     "user": {
      "displayName": "ILMI TABASSUM",
      "photoUrl": "https://lh3.googleusercontent.com/a-/AOh14GgTXywyt_oWdsyO7FTi_LXn-Tk2SYspNXUJFoza=s64",
      "userId": "05857277389155166050"
     },
     "user_tz": -360
    },
    "id": "NOpi8SPREmVw",
    "outputId": "c286c082-bb6c-488d-9acd-ac05e5fb729c"
   },
   "outputs": [
    {
     "name": "stdout",
     "output_type": "stream",
     "text": [
      "enter day13\n",
      "Enter month144\n",
      "144 is not a valid day of any month\n"
     ]
    }
   ],
   "source": [
    "try:\n",
    "    day = int(input(\"enter day\"))\n",
    "    month = int(input(\"Enter month\"))\n",
    "    Distance = 0\n",
    "    if (day<10):\n",
    "        Distance = 5+(day*2)/month\n",
    "        print(Distance, \"kilometres\")\n",
    "\n",
    "    elif (month>12):\n",
    "        raise RuntimeError()\n",
    "    else:\n",
    "        Distance = 3+(day/month)\n",
    "        print(Distance, \"kilometres\")\n",
    "except RuntimeError:\n",
    "    print(month,\"is not a valid day of any month\")\n",
    "\n",
    "    \n",
    "\n",
    "except ValueError:\n",
    "    print(\"Please do not enter any string as input\")\n",
    "\n",
    "except ZeroDivisionError:\n",
    "    print(\"0 is not a valid month\")\n",
    "\n"
   ]
  },
  {
   "cell_type": "markdown",
   "metadata": {
    "id": "UrxbFOWk5ASO"
   },
   "source": [
    "## Optional Tasks (12-15)"
   ]
  },
  {
   "cell_type": "markdown",
   "metadata": {
    "id": "uIYrt-t8ETUQ"
   },
   "source": [
    "\n",
    "### Task 12\n",
    "Suppose you made a game and you stored information about the game play in a file.\\\n",
    "You stored Name, Score, Lives Used and Characters Killed of each players.\n",
    "\n",
    "**Existing file:**\\\n",
    "Mary,2000,5,25\\\n",
    "John,123455,12,50\\\n",
    "Peter,1500,5,10\\\n",
    "Harry,10000,10,30\\\n",
    "John,122,5,2\\\n",
    "Mary,5,1,1\\\n",
    "Peter,2,1,1\\\n",
    "John,123,5,10\\\n",
    "John,5,6,7\n",
    "\n",
    "**Now you have to make a new file where you have to store the following information:**\\\n",
    "1.In the first line you have to show the name and score of the player who scored the highest score.\n",
    "\n",
    "2.In the second line you have to store the name and lives used of players who used the least lives.\n",
    "\n",
    "3.In the third line you have to show the name and number of games played of the player who played the most games.\n",
    "\n",
    "**Output:**\\\n",
    "Name:John, Score:123455\\\n",
    "Name:Mary, Lives used:1\\\n",
    "Name:John, Games Played:4\n",
    "\n",
    "=========================================================\n",
    "\n",
    "**Hint(1):**\\\n",
    "Use dictionary where necessary.\\\n",
    "You are allowed to use max() min(), list.index(value) and str.split(separator) function.\n",
    "\n",
    "**Hint(2):**\\\n",
    "You need to use split function to get the data. The split function takes the separator as an argument.\n",
    "\n",
    "*Structure:*\n",
    "str.split(separator)\n",
    "\n",
    "*Example:*\n",
    "line = \"John,5,6,7\"\\\n",
    "line.split(',')\n",
    "\n",
    "**Hint(3):**\\\n",
    "You can use both write() and writelines() for writing the answers\n",
    "\n"
   ]
  },
  {
   "cell_type": "code",
   "execution_count": null,
   "metadata": {
    "id": "0eB5wE1p-869"
   },
   "outputs": [],
   "source": [
    "#to do\n"
   ]
  },
  {
   "cell_type": "markdown",
   "metadata": {
    "id": "SjU5ufx8Snv3"
   },
   "source": [
    "### Task 13\n",
    "Read a **file** from the user which contains the  name and salary of employees. Convert that to a dictionary where the key is the name of each employee and value is the salary of that employee. Then find the total cost for the company that it needs to pay through employees’ salary. Print the dictionary and sum if no exception occurs.\n",
    "\n",
    "Exception to handle:\n",
    "* check whether file is actually there\n",
    "* check whether the salary in each line is a number or not.\n",
    "* raise error if there are extra numbers or names\n",
    "\n",
    "=============================\n",
    "\n",
    "**Example 1:** \\\n",
    "**Input:**\\\n",
    "Saadat 100\\\n",
    "Farzad 200\\\n",
    "Atef 300\\\n",
    "**Output:**\\\n",
    "dict={Saadat : 100, Farzad : 200, Atef : 300}\\\n",
    "Sum = 600\n",
    "\n",
    "=================\n",
    "\n",
    "**Example 2:** \\\n",
    "**Input:**\\\n",
    "Saadat 100\\\n",
    "Farzad 200\\\n",
    "Atef 300\\\n",
    "John\\\n",
    "**Output:**\\\n",
    "Extra Statement\n",
    "\n",
    "**Example 3:** \\\n",
    "**Input:**\\\n",
    "Saadat 100\\\n",
    "Farzad 200\\\n",
    "Atef john\\\n",
    "**Output:**\\\n",
    "Salary cannot be string\n"
   ]
  },
  {
   "cell_type": "code",
   "execution_count": null,
   "metadata": {
    "id": "SUxJ1iCXUAPg"
   },
   "outputs": [],
   "source": [
    "#to do\n"
   ]
  },
  {
   "cell_type": "markdown",
   "metadata": {
    "id": "2Xzq6xJNWvbf"
   },
   "source": [
    "### Task 14\n",
    "Write a python program to make a calculator. The user must input a string consisting of a number, operator and another number separated by white spaces.\n",
    "* If the user’s input does not contain 3 elements, raise an **exception error** stating \"Input does not contain 3 elements/Wrong operator\".\n",
    "* If the user inputs any other values except numbers in first and third position of the input, raise **value error** exception stating \"Input does not contain numbers.\" \n",
    "* If the user does not input ‘+’ or ‘-’ or ’/’ or ‘*’ or ‘%’ in second position of the input, again raise an **exception error** stating \"Input does not contain 3 elements/Wrong operator\".\n",
    "\n",
    "* In case of division, also handle **divide by zero exception**.\n",
    "\n",
    "\n",
    "If all the inputs are correct, calculate the result and print the value.\n",
    "\n",
    "\n",
    "=============================\n",
    "\n",
    "\n",
    "**Example 1:** \\\n",
    "**Input:**\\\n",
    "1 + 1 + 1\\\n",
    "**Output:**\\\n",
    "Input does not contain 3 elements/Wrong operator\n",
    "\n",
    "=================\n",
    "\n",
    "**Example 2:** \\\n",
    "**Input:**\\\n",
    "A * B\\\n",
    "**Output:**\\\n",
    "Input does not contain numbers.\n",
    "\n",
    "=================\n",
    "\n",
    "**Example 3:** \\\n",
    "**Input:**\\\n",
    "1 $ 3\\\n",
    "**Output:**\\\n",
    "Input does not contain 3 elements/Wrong operator\n",
    "\n",
    "=================\n",
    "\n",
    "**Example 4:** \\\n",
    "**Input:**\\\n",
    "1 + 1\\\n",
    "**Output:**\\\n",
    "The answer is : 2\n"
   ]
  },
  {
   "cell_type": "code",
   "execution_count": null,
   "metadata": {
    "id": "vX2d7DiVXbhc"
   },
   "outputs": [],
   "source": [
    "#to do\n"
   ]
  },
  {
   "cell_type": "markdown",
   "metadata": {
    "id": "RdshPzpJRcsD"
   },
   "source": [
    "### Task 15\n",
    "Write a python function that will remove a given character from a sentence based on the starting and ending index of the sentence. In the place of the removed characters, add the count of the number of characters removed so far. For this program, you need to take 4 user inputs.\n",
    "* Sentence\n",
    "* Character to be removed\n",
    "* Starting index (inclusive)\n",
    "* Ending index (inclusive)\n",
    "\n",
    "Few exceptions to catch: \n",
    "* Name Error if a variable is not found. Print ‘Name Error: Variable not defined’\n",
    "* Value Error if the starting index and ending index is not an integer. Print ‘Value Error: Wrong input, please enter an integer value.’\n",
    "* Type Error when adding count in the new sentence. Print ‘Type Error: Cannot add integer value with string.’\n",
    "* Index Error if the starting and ending index is out of range. Print ‘Index Error: Index is outside the range of sentence length.’\n",
    "* For other exceptions, catch Exception. Print ‘Some other error occurred.’\n",
    "\n",
    "If no exception occurred, print the new string using else block. At the end using finally, print ‘The program execution is complete’.\n",
    "\n",
    "=============================\n",
    "\n",
    "**Example 1:** \\\n",
    "**Input:**\\\n",
    "'my python programming book'\\\n",
    "'m'\\\n",
    "2\\\n",
    "20\\\n",
    "**Output:**\\\n",
    "my python progra12ing book\\\n",
    "The program execution is complete\n",
    "\n",
    "=================\n",
    "\n",
    "**Example 2:** \\\n",
    "**Input:**\\\n",
    "'my python programming book'\\\n",
    "'m'\\\n",
    "2.5\\\n",
    "20\\\n",
    "**Output:**\\\n",
    "Value Error: Wrong input, please enter an integer value.\\\n",
    "The program execution is complete\n",
    "\n",
    "=================\n",
    "\n",
    "**Example 3:** \\\n",
    "**Input:**\\\n",
    "'my python programming book'\\\n",
    "'m'\\\n",
    "2\\\n",
    "100\\\n",
    "**Output:**\\\n",
    "Index Error: Index is outside the range of sentence length.\\\n",
    "The program execution is complete\n",
    "\n",
    "=================\n",
    "\n",
    "**Hint(1):**\\\n",
    "For ensuring starting index and ending index value to be integer use the builtin function isinstance(value, data_type)\n"
   ]
  },
  {
   "cell_type": "code",
   "execution_count": null,
   "metadata": {
    "id": "bcU6dV5BSl7d"
   },
   "outputs": [],
   "source": [
    "#to do\n"
   ]
  }
 ],
 "metadata": {
  "colab": {
   "collapsed_sections": [],
   "name": "17101130_Ilmi_Tabassum_03_CSE110 Lab Assignment 8.ipynb",
   "provenance": [
    {
     "file_id": "1o0uqklPP8EMryWBIB7_AbHtIhvmCS8k7",
     "timestamp": 1631122462254
    }
   ]
  },
  "kernelspec": {
   "display_name": "Python 3",
   "language": "python",
   "name": "python3"
  },
  "language_info": {
   "codemirror_mode": {
    "name": "ipython",
    "version": 3
   },
   "file_extension": ".py",
   "mimetype": "text/x-python",
   "name": "python",
   "nbconvert_exporter": "python",
   "pygments_lexer": "ipython3",
   "version": "3.9.6"
  }
 },
 "nbformat": 4,
 "nbformat_minor": 1
}
