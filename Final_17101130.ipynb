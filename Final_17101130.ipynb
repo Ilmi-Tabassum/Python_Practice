{
 "cells": [
  {
   "cell_type": "code",
   "execution_count": 16,
   "id": "7e847e31",
   "metadata": {},
   "outputs": [
    {
     "name": "stdout",
     "output_type": "stream",
     "text": [
      "Enter a string : ilmi\n",
      "#lm#"
     ]
    }
   ],
   "source": [
    "def givestring(string):\n",
    "    duplicates = []\n",
    "    for char in string:\n",
    "        if (string.count(char) > 1):\n",
    "            if (char not in duplicates):\n",
    "                duplicates.append(char)\n",
    "        \n",
    "    for char in string:\n",
    "        if(char not in duplicates):\n",
    "            print(char, end=\"\")\n",
    "        else:\n",
    "            print(\"#\", end=\"\")\n",
    "    \n",
    "givestring(input(\"Enter a string : \"))\n",
    "\n",
    "\n"
   ]
  },
  {
   "cell_type": "code",
   "execution_count": 16,
   "id": "ad94c339",
   "metadata": {},
   "outputs": [
    {
     "name": "stdout",
     "output_type": "stream",
     "text": [
      "Enter the name of the student: John\n",
      "\\\\Data For John ///\n",
      "Current semester's Total GPA:  35.099999999999994\n",
      "Enter valid name\n",
      "Enter valid name\n",
      "Previous semester complete credits:  90\n",
      "Previous semester CGPA:  3.88\n",
      "Completed credits in current semester:  99\n",
      "Current semester's CGPA 3.8818181818181814\n"
     ]
    }
   ],
   "source": [
    "current_sem_data = {\"John\":[4.0,3.7,4.0], \"Tom\":[3.3,3.7,4.0], \"Harry\":[3.3,3.7,4.0]}\n",
    "previous_sem_data = {\"John\":[3.88,90], \"Tom\":[3.52, 70], \"Harry\":[3.25,85]}\n",
    "\n",
    "name = input(\"Enter the name of the student: \")\n",
    "\n",
    "for k, v in current_sem_data.items():\n",
    "    if(name == k):\n",
    "        print(\"\\\\\\Data For\",k,\"///\")\n",
    "        c1 = sum(v)*3\n",
    "        print(\"Current semester's Total GPA: \", c1)\n",
    "        c2 = len(v)*3\n",
    "    else:\n",
    "        print(\"Enter valid name\")\n",
    "\n",
    "for k, v in previous_sem_data.items():\n",
    "    if(name == k):\n",
    "        p1 = v[1]\n",
    "        print(\"Previous semester complete credits: \", p1)\n",
    "        p2 = v[0]\n",
    "        print(\"Previous semester CGPA: \", p2)\n",
    "\n",
    "        c3 = p1 + c2\n",
    "        print(\"Completed credits in current semester: \", c3)\n",
    "        \n",
    "        cg = (c1 + p2 * p1) / c3\n",
    "\n",
    "        print(\"Current semester's CGPA\", cg)\n"
   ]
  },
  {
   "cell_type": "code",
   "execution_count": 1,
   "id": "fa9b1bed",
   "metadata": {},
   "outputs": [
    {
     "name": "stdout",
     "output_type": "stream",
     "text": [
      "1,2,3,4\n",
      "Input List: [1, 2, 3, 4]\n",
      "Average of input list 2.5\n",
      "New list:  [3, 4]\n",
      "Average of new list 3.5\n",
      "2nd highest of 1st list:  3\n",
      "Its a miracle\n"
     ]
    }
   ],
   "source": [
    "word= input()\n",
    "p=word.split(\",\")\n",
    "sum=0\n",
    "for i in range(len(p)):\n",
    "    p[i]= int(p[i])\n",
    "    sum+= p[i]\n",
    "    \n",
    "print(\"Input List:\", p)\n",
    "print(\"Average of input list\", sum/len(p))\n",
    "\n",
    "newlist=[]\n",
    "sumnew=0\n",
    "for i in p:\n",
    "    if i> sum/len(p) :\n",
    "        sumnew+= i\n",
    "        newlist.append(i)\n",
    "        \n",
    "print(\"New list: \",newlist)\n",
    "print(\"Average of new list\", sumnew/len(newlist))\n",
    "\n",
    "# find second highest\n",
    "\n",
    "p.sort()\n",
    "print(\"2nd highest of 1st list: \", p[-2])\n",
    "\n",
    "if(sumnew/len(newlist)> p[-2]):\n",
    "    print(\"Its a miracle\")\n",
    "else:\n",
    "    print(\"Just another normal day!!!\")\n",
    "    "
   ]
  },
  {
   "cell_type": "code",
   "execution_count": null,
   "id": "7efdf289",
   "metadata": {},
   "outputs": [],
   "source": []
  }
 ],
 "metadata": {
  "kernelspec": {
   "display_name": "Python 3",
   "language": "python",
   "name": "python3"
  },
  "language_info": {
   "codemirror_mode": {
    "name": "ipython",
    "version": 3
   },
   "file_extension": ".py",
   "mimetype": "text/x-python",
   "name": "python",
   "nbconvert_exporter": "python",
   "pygments_lexer": "ipython3",
   "version": "3.9.6"
  }
 },
 "nbformat": 4,
 "nbformat_minor": 5
}
