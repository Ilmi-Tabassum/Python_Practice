{
 "cells": [
  {
   "cell_type": "code",
   "execution_count": 25,
   "id": "e99787d0",
   "metadata": {},
   "outputs": [
    {
     "name": "stdout",
     "output_type": "stream",
     "text": [
      "enter  a string : bangladesh\n",
      "enter the 1st index2\n",
      "enter the last index7\n",
      "nglade\n",
      "Answer:\n",
      "p i n c f g "
     ]
    }
   ],
   "source": [
    "s = input(\"enter  a string : \")\n",
    "num1 = int(input(\"enter the 1st index\"))\n",
    "num2 = int(input(\"enter the last index\"))\n",
    "if num2+1>=len(s):\n",
    "    print(\"Invalid Index\")\n",
    "\n",
    "else:\n",
    "    k = s[num1 : num2+1]\n",
    "    a = (len(k))\n",
    "    print(k)\n",
    "    print(\"Answer:\")\n",
    "    for i in range (len(k)):\n",
    "        x = chr(ord(k[i]) + 2)\n",
    "        print(x, end = \" \")\n",
    "        "
   ]
  },
  {
   "cell_type": "code",
   "execution_count": null,
   "id": "009e57a5",
   "metadata": {},
   "outputs": [],
   "source": []
  }
 ],
 "metadata": {
  "kernelspec": {
   "display_name": "Python 3",
   "language": "python",
   "name": "python3"
  },
  "language_info": {
   "codemirror_mode": {
    "name": "ipython",
    "version": 3
   },
   "file_extension": ".py",
   "mimetype": "text/x-python",
   "name": "python",
   "nbconvert_exporter": "python",
   "pygments_lexer": "ipython3",
   "version": "3.9.5"
  }
 },
 "nbformat": 4,
 "nbformat_minor": 5
}
