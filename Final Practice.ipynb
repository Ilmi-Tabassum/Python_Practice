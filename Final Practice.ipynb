{
 "cells": [
  {
   "cell_type": "code",
   "execution_count": 54,
   "id": "e1de1f9a",
   "metadata": {},
   "outputs": [
    {
     "name": "stdout",
     "output_type": "stream",
     "text": [
      "enter a string : hghusodijspaeiou\n",
      "hghusodijspaeiou\n",
      "['g', 'h', 's', 'o', 'd', 'i', 'j', 'p', 'a', 'e', 'u']\n",
      "['a', 'e', 'i', 'o', 'u']\n",
      "5\n"
     ]
    }
   ],
   "source": [
    "def function_name(word):\n",
    "    a_list = ['a','e','i','o', 'u']\n",
    "    b_list = []\n",
    "    c_list = []\n",
    "    \n",
    "    counter = 0\n",
    "    \n",
    "    for i in range(0,len(word)):\n",
    "        if word[i] not in b_list:\n",
    "            b_list.append(word[i])\n",
    "  \n",
    "    for passnum in range(len(b_list)-1, 0, -1):\n",
    "        for i in range(passnum):\n",
    "            if b_list[i] > b_list[i+1]:\n",
    "                b_list[i], b_list[i+1] = b_list[i+1], b_list[i]\n",
    "        print(b_list)\n",
    "    \n",
    "    \n",
    "\n",
    "        for j in a_list:\n",
    "            if j in b_list:\n",
    "                c_list.append(j)\n",
    "        print(c_list)\n",
    "     \n",
    "        if a_list == c_list:\n",
    "            return 5\n",
    "        else:\n",
    "            return 6\n",
    "    \n",
    "    \n",
    "        \n",
    "        \n",
    "        \n",
    "user = input(\"enter a string : \")\n",
    "user =  user.lower()\n",
    "user = user.replace(' ', '')\n",
    "print(user)\n",
    "receieve = function_name(user)\n",
    "\n",
    "print(receieve)"
   ]
  },
  {
   "cell_type": "code",
   "execution_count": 26,
   "id": "a38c2354",
   "metadata": {},
   "outputs": [
    {
     "name": "stdout",
     "output_type": "stream",
     "text": [
      "['A', 'B', 'C', 'D', 'E']\n"
     ]
    }
   ],
   "source": [
    "u = [\"B\", \"D\", \"A\", \"E\", \"C\"]\n",
    "y=[]\n",
    "count=65\n",
    "while len(y)<len(u):\n",
    "    for i in u:\n",
    "        if ord(i)==count:\n",
    "            y.append(i)\n",
    "            count+=1\n",
    "print(y)\n"
   ]
  },
  {
   "cell_type": "code",
   "execution_count": 7,
   "id": "41612530",
   "metadata": {},
   "outputs": [
    {
     "name": "stdout",
     "output_type": "stream",
     "text": [
      "['a', 'c', 'd', 'e', 'r']\n"
     ]
    }
   ],
   "source": [
    "list_val=['c','d','e','a','r']\n",
    "for passnum in range(len(list_val)-1, 0, -1):\n",
    "    for i in range(passnum):\n",
    "        if list_val[i] > list_val[i+1]:\n",
    "            list_val[i], list_val[i+1] = list_val[i+1], list_val[i]\n",
    "\n",
    "print (list_val)"
   ]
  },
  {
   "cell_type": "code",
   "execution_count": 59,
   "id": "6854a748",
   "metadata": {},
   "outputs": [
    {
     "name": "stdout",
     "output_type": "stream",
     "text": [
      "[80]\n",
      "{80: [(20, 80), (31, 80)], 22: [(1, 22)], 11: [(88, 11), (27, 11)]}\n"
     ]
    }
   ],
   "source": [
    "a_dict = {}\n",
    "a_list = [(20,80),(31,80),(1,22),(88,11),(27,11)]\n",
    "\n",
    "list_of_key = []\n",
    "list_of_key.append(a_list[0][1])\n",
    "print(list_of_key)\n",
    "\n",
    "\n",
    "for i in range(0,len(a_list)):\n",
    "    if a_list[i][1] not in list_of_key:\n",
    "        list_of_key.append(a_list[i][1])\n",
    "\n",
    "        \n",
    "for j in range(0,len(list_of_key)):\n",
    "    list_of_value = []\n",
    "    for k in range(0,len(a_list)):\n",
    "        if list_of_key[j] ==a_list[k][1]:\n",
    "            list_of_value.append(a_list[k])\n",
    "    a_dict[list_of_key[j]]= list_of_value\n",
    "    \n",
    "print(a_dict)"
   ]
  },
  {
   "cell_type": "code",
   "execution_count": 1,
   "id": "7632a643",
   "metadata": {},
   "outputs": [
    {
     "name": "stdout",
     "output_type": "stream",
     "text": [
      "Enter A Lower Case String: hkus\n",
      "hkuS\n"
     ]
    }
   ],
   "source": [
    "str=input(\"Enter A Lower Case String: \")\n",
    "\n",
    "for i in range (1, len(str)):\n",
    "\n",
    "    if(i%3==0):\n",
    "        if str[i]>='a' and str[i]<='z' :\n",
    "            str = str.replace(str[i], chr(ord(str[i])-32))\n",
    "        else:\n",
    "            str = str.replace(str[i], chr(ord(str[i])))\n",
    "        i+=1\n",
    "print(str)\n"
   ]
  },
  {
   "cell_type": "code",
   "execution_count": 2,
   "id": "fef5ff7d",
   "metadata": {},
   "outputs": [
    {
     "name": "stdout",
     "output_type": "stream",
     "text": [
      "Enter number of rows: 5\n",
      "Enter number of columns6\n",
      "1======\n",
      "12=====\n",
      "123====\n",
      "1234===\n",
      "12345==\n",
      "123456=\n"
     ]
    }
   ],
   "source": [
    "n = int(input(\"Enter number of rows: \"))\n",
    "N = int(((input(\"Enter number of columns\"))))\n",
    "for i in range (1, N+1):\n",
    "    for j in range(1, i+1):\n",
    "        print(j, end = \"\")\n",
    "    for k in range (N+1-j):\n",
    "        print('=', end = '')\n",
    "    print()\n"
   ]
  },
  {
   "cell_type": "code",
   "execution_count": 8,
   "id": "65e9d301",
   "metadata": {},
   "outputs": [
    {
     "name": "stdout",
     "output_type": "stream",
     "text": [
      "Enter row5\n",
      "&&&&\n",
      "&&&\n",
      "&&\n",
      "&\n",
      "\n"
     ]
    }
   ],
   "source": [
    "def pattern(row):\n",
    "    for i in range(1, row+1):\n",
    "        for j in range(0, row-i):\n",
    "            print('&', end='')\n",
    "        print()\n",
    "row= int(input(\"Enter row\"))\n",
    "pattern(row)"
   ]
  },
  {
   "cell_type": "code",
   "execution_count": 24,
   "id": "a7ab160f",
   "metadata": {},
   "outputs": [
    {
     "name": "stdout",
     "output_type": "stream",
     "text": [
      "Enter row5\n",
      "&  &  &  &  1  = = = = \n",
      "&  &  &  1  2  3  = = = \n",
      "&  &  1  2  3  4  5  = = \n",
      "&  1  2  3  4  5  6  7  = \n",
      "1  2  3  4  5  6  7  8  9  = \n"
     ]
    }
   ],
   "source": [
    "def pattern(row):\n",
    "    for i in range(1, row+1):\n",
    "        for j in range(0, row-i):\n",
    "            print('&', end=\"  \")\n",
    "        for k in range(1, 2*i):\n",
    "            print(k, end =\"  \")\n",
    "        for m in range (j+1):\n",
    "            print('=', end = ' ')\n",
    "        print()\n",
    "row= int(input(\"Enter row\"))\n",
    "pattern(row)"
   ]
  },
  {
   "cell_type": "code",
   "execution_count": null,
   "id": "e16687b5",
   "metadata": {},
   "outputs": [],
   "source": [
    "def pattern(row):\n",
    "    for i in range(1, row+1):\n",
    "        for j in range(0, row-i):\n",
    "            print(' ', end=\"  \")\n",
    "        for k in range(1, 2*i):\n",
    "            if k==1 or k==2*i-1:\n",
    "                print(\"  \",k  ,end= \" \")\n",
    "            else:\n",
    "                print(' ', end = '')\n",
    "        print()\n",
    "row= int(input(\"Enter row\"))\n",
    "pattern(row)\n"
   ]
  },
  {
   "cell_type": "code",
   "execution_count": 5,
   "id": "f524d6e7",
   "metadata": {},
   "outputs": [
    {
     "name": "stdout",
     "output_type": "stream",
     "text": [
      "The final dictionaty {'p': [0, -10], 'y': [1, -9], 't': [2, -8], 'h': [3, -7], 'o': [4, -6], 'n': [5, -5], 'b': [6, -4], 'k': [9, -1]}\n"
     ]
    }
   ],
   "source": [
    "def funny(word):\n",
    "    a_dic ={}\n",
    "    for i in range (0, len(word)):\n",
    "        if word[i] not in a_dic.keys():\n",
    "            a_dic[word[i]] = [i, -len(word)+i]\n",
    "\n",
    "    print(\"The final dictionaty\", a_dic)\n",
    "    \n",
    "    \n",
    "funny(\"pythonbook\")"
   ]
  },
  {
   "cell_type": "code",
   "execution_count": 50,
   "id": "412f5602",
   "metadata": {},
   "outputs": [
    {
     "name": "stdout",
     "output_type": "stream",
     "text": [
      "{'go': [2], 'there': [2], 'care': [2], 'come': [1], 'brother': [1], 'will': [1]}\n",
      "s ['brother', 'care', 'come', 'go', 'there', 'will']\n",
      "values brother\n",
      "keys 1\n",
      "[1]\n",
      "values care\n",
      "keys 2\n",
      "[2]\n",
      "values come\n",
      "keys 1\n",
      "[1]\n",
      "values go\n",
      "keys 2\n",
      "[2]\n",
      "values there\n",
      "keys 2\n",
      "[2]\n",
      "values will\n",
      "keys 1\n",
      "[1]\n",
      "{1: 'will', 2: 'there'}\n"
     ]
    }
   ],
   "source": [
    "def fuy(word):\n",
    "    a_dic = {}\n",
    "#     a_list = list(word)\n",
    "#     print(a_list)\n",
    "    a_list = word.split(' ')\n",
    "   \n",
    "    for i in range(0,len(a_list)):\n",
    "        if a_list[i] not in a_dic.keys():\n",
    "            a_dic[a_list[i]] = 1\n",
    "        else:\n",
    "             a_dic[a_list[i]] =  a_dic[a_list[i]]+1\n",
    "        \n",
    "    b_dic = {}\n",
    "    for keys,values in a_dic.items():\n",
    "        if keys not in b_dic.keys():\n",
    "            b_dic[keys] = [values]\n",
    "        else:\n",
    "            b_dic[keys] =  b_dic[keys] + [values]  \n",
    "        \n",
    "    \n",
    "    \n",
    "    print(b_dic)\n",
    "    \n",
    "    c_dic = {}\n",
    "    s_dic= sorted(b_dic.keys())\n",
    "    print('s', s_dic )\n",
    "    \n",
    "    for values in s_dic:\n",
    "        print('values', values)\n",
    "        for keys  in b_dic[values]:\n",
    "            print('keys',keys)\n",
    "            print(b_dic[values])\n",
    "            c_dic[keys] = values\n",
    "\n",
    "    return c_dic\n",
    "    \n",
    "print(fuy(\"go there care come care go there brother will\"))\n",
    "\n"
   ]
  },
  {
   "cell_type": "code",
   "execution_count": 57,
   "id": "1b5524f3",
   "metadata": {},
   "outputs": [
    {
     "name": "stdout",
     "output_type": "stream",
     "text": [
      "Hello Hello\n",
      "\n",
      "Hi Hi\n",
      "\n",
      "Nice Nice\n",
      "\n",
      "Hello Hello\n",
      "\n",
      "Hi Hi\n",
      "\n",
      "Nice Nice\n",
      "\n",
      "Hello Hello\n",
      "\n",
      "Hi Hi\n",
      "\n",
      "Nice Nice\n",
      "\n"
     ]
    }
   ],
   "source": [
    "file1 = open(r\"C:\\Users\\Asus\\Desktop\\text.txt\",\"r\")\n",
    "\n",
    "file2 = open(r\"C:\\Users\\Asus\\Desktop\\text.txt\",\"r\")\n",
    "\n",
    "file3 = open(r\"C:\\Users\\Asus\\Desktop\\write.txt\", \"a\")\n",
    "file4 = open(r\"C:\\Users\\Asus\\Desktop\\write.txt\", \"r\") #same file just change in access mode\n",
    "\n",
    "\n",
    "list1 = []\n",
    "\n",
    "a = file1.readlines()\n",
    "\n",
    "b = file2.readlines()\n",
    "\n",
    "\n",
    "\n",
    "\n",
    "\n",
    "for x in range (0, len(a)):\n",
    "    k = a[x].strip() +\" \"+ b[x].strip() + \"\\n\"\n",
    "    print(k)\n",
    "    file3.write(k)\n",
    "\n",
    "c = file4.readlines()\n",
    "\n",
    "for y in range (0, len(c)):\n",
    "    l = c[y]\n",
    "    print(l)\n",
    "    \n",
    "    \n",
    "    "
   ]
  },
  {
   "cell_type": "code",
   "execution_count": 62,
   "id": "c1d5962b",
   "metadata": {},
   "outputs": [
    {
     "name": "stdout",
     "output_type": "stream",
     "text": [
      "Jett\n"
     ]
    }
   ],
   "source": [
    "a_dict = {\"Normal Skills\":[10,15,20],\"Ultimate Skills\": 50}\n",
    "damaged_score = 0\n",
    "\n",
    "for key, value in a_dict.items():\n",
    "    if key =='Normal Skills':\n",
    "        sum = 0\n",
    "        for count in range(len(value)):\n",
    "            sum = sum+value[count]\n",
    "        damaged_score = damaged_score + sum\n",
    "        \n",
    "    elif key == 'Ultimate Skills':\n",
    "         damaged_score = damaged_score + value\n",
    "\n",
    "\n",
    "if damaged_score<=70:\n",
    "    print(\"rage\")\n",
    "elif damaged_score<=100:\n",
    "    print(\"Jett\")\n",
    "else:\n",
    "    print(\"sage\")\n",
    "\n",
    "    "
   ]
  },
  {
   "cell_type": "code",
   "execution_count": null,
   "id": "948e65da",
   "metadata": {},
   "outputs": [],
   "source": []
  }
 ],
 "metadata": {
  "kernelspec": {
   "display_name": "Python 3",
   "language": "python",
   "name": "python3"
  },
  "language_info": {
   "codemirror_mode": {
    "name": "ipython",
    "version": 3
   },
   "file_extension": ".py",
   "mimetype": "text/x-python",
   "name": "python",
   "nbconvert_exporter": "python",
   "pygments_lexer": "ipython3",
   "version": "3.9.6"
  }
 },
 "nbformat": 4,
 "nbformat_minor": 5
}
