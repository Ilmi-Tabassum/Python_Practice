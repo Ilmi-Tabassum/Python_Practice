{
 "cells": [
  {
   "cell_type": "code",
   "execution_count": 3,
   "id": "6f10ed2c",
   "metadata": {},
   "outputs": [
    {
     "name": "stdout",
     "output_type": "stream",
     "text": [
      "enter your sentence/s: Our next CSE course is CSE111, We love OOP\n",
      "our next cse course is cse111\n",
      "vowels 9\n",
      " we love oop\n",
      "vowels 5\n",
      "our next cse course is cse111\n",
      "consonants 12\n",
      " we love oop\n",
      "consonants 4\n"
     ]
    }
   ],
   "source": [
    "def vowelConsonantFreq(k):\n",
    "    lst = k.split(\",\")\n",
    "    for x in range(0, len(lst)):\n",
    "        lowercase = lst[x].lower()\n",
    "        print(lowercase)\n",
    "        m = []\n",
    "        n = []\n",
    "        for vowel in \"aeiou\":\n",
    "            count = lowercase.count(vowel)\n",
    "            m.append(count)\n",
    "        print(\"vowels\", sum(m))\n",
    "\n",
    "\n",
    "    for y in range(0, len(lst)):\n",
    "        lowercase2 = lst[y].lower()\n",
    "        print(lowercase2)\n",
    "        o = []\n",
    "        p = []\n",
    "        for const in \"bcdfghjklmnpqrstvwxyz\":\n",
    "            count2 = lowercase2.count(const)\n",
    "            o.append(count2)\n",
    "        print(\"consonants\", sum(o))\n",
    "\n",
    "\n",
    "k = input(\"enter your sentence/s: \")\n",
    "vowelConsonantFreq(k)\n"
   ]
  },
  {
   "cell_type": "code",
   "execution_count": 4,
   "id": "2c54afb5",
   "metadata": {},
   "outputs": [
    {
     "name": "stdout",
     "output_type": "stream",
     "text": [
      "enter your sentence/s: Our next CSE course is CSE111, We love OOP\n",
      "our next cse course is cse111\n",
      " we love oop\n",
      "[9, 5]\n",
      "our next cse course is cse111\n",
      " we love oop\n",
      "[12, 4]\n"
     ]
    },
    {
     "data": {
      "text/plain": [
       "{9: 12, 5: 4}"
      ]
     },
     "execution_count": 4,
     "metadata": {},
     "output_type": "execute_result"
    }
   ],
   "source": [
    "def vowelConsonantFreq(k):\n",
    "    lst = k.split(\",\")\n",
    "    dict1 = {}\n",
    "\n",
    "    n = []\n",
    "    for x in range(0, len(lst)):\n",
    "        lowercase = lst[x].lower()\n",
    "        print(lowercase)\n",
    "        m = []\n",
    "        for vowel in \"aeiou\":\n",
    "            count = lowercase.count(vowel)\n",
    "            m.append(count)\n",
    "            l = sum(m)\n",
    "        n.append(l)\n",
    "    print( n)\n",
    "\n",
    "\n",
    "\n",
    "    p = []\n",
    "    for y in range(0, len(lst)):\n",
    "        lowercase2 = lst[y].lower()\n",
    "        print(lowercase2)\n",
    "        o = []\n",
    "\n",
    "        for const in \"bcdfghjklmnpqrstvwxyz\":\n",
    "            count2 = lowercase2.count(const)\n",
    "            o.append(count2)\n",
    "            k = sum(o)\n",
    "        p.append(k)\n",
    "    print(p)\n",
    "\n",
    "    for i in range(0,len(n)):\n",
    "        dict1[n[i]] = p[i]\n",
    "    return dict1\n",
    "\n",
    "k = input(\"enter your sentence/s: \")\n",
    "vowelConsonantFreq(k)\n"
   ]
  },
  {
   "cell_type": "code",
   "execution_count": null,
   "id": "5bb9ad0f",
   "metadata": {},
   "outputs": [],
   "source": []
  }
 ],
 "metadata": {
  "kernelspec": {
   "display_name": "Python 3",
   "language": "python",
   "name": "python3"
  },
  "language_info": {
   "codemirror_mode": {
    "name": "ipython",
    "version": 3
   },
   "file_extension": ".py",
   "mimetype": "text/x-python",
   "name": "python",
   "nbconvert_exporter": "python",
   "pygments_lexer": "ipython3",
   "version": "3.9.6"
  }
 },
 "nbformat": 4,
 "nbformat_minor": 5
}
