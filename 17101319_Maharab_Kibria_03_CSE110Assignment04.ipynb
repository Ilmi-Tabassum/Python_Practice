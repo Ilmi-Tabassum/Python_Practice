{
 "cells": [
  {
   "cell_type": "markdown",
   "metadata": {
    "id": "xDNsncrtU1yM"
   },
   "source": [
    "# CSE110 Lab Assignment 4\n",
    "\n",
    "This Assignment is to help you develop your concept of Lists in Python."
   ]
  },
  {
   "cell_type": "markdown",
   "metadata": {
    "id": "gh4GUDaIU1yO"
   },
   "source": [
    "\n",
    "\n",
    "\n",
    "\n",
    "\n",
    "\n",
    "##Write your name, student ID and CSE110 theory section number below:\n",
    "\n",
    "\n",
    "\n",
    "\n",
    "\n"
   ]
  },
  {
   "cell_type": "code",
   "execution_count": null,
   "metadata": {
    "id": "OAYfzLIqgqyE"
   },
   "outputs": [],
   "source": [
    "#STUDENT NAME: Maharab Kibria\n",
    "#STUDENT ID: 17101319\n",
    "#CSE110 THEORY SECTION:03"
   ]
  },
  {
   "cell_type": "markdown",
   "metadata": {
    "id": "KD4EKJf6U1yQ"
   },
   "source": [
    "## Write the code in Python to do the following tasks:\n",
    "\n",
    "**<font color='red'>[MUST MAINTAIN VARIABLE NAMING CONVENTIONS FOR ALL THE TASKS]</font>**"
   ]
  },
  {
   "cell_type": "markdown",
   "metadata": {
    "id": "pbdeIVcyU1yi"
   },
   "source": [
    "### Task 1\n",
    "Write a Python program that reads 10 numbers from the user into a list. After reading each number, print all the numbers that have been entered so far in the list. \n",
    "\n",
    "**Example:**\\\n",
    "After the user enters 3, prints “Numbers in the list: [3]”\\\n",
    "After the user enters 5, prints “Numbers in the list: [3, 5]”\\\n",
    "After the user enters 34, prints “Numbers in the list: [3, 5, 34]”\\\n",
    ".... and so on"
   ]
  },
  {
   "cell_type": "code",
   "execution_count": 1,
   "metadata": {
    "id": "A5df9pmJU1yj"
   },
   "outputs": [
    {
     "name": "stdout",
     "output_type": "stream",
     "text": [
      "1\n",
      "Number in list: [1]\n",
      "2\n",
      "Number in list: [1, 2]\n",
      "3\n",
      "Number in list: [1, 2, 3]\n",
      "4\n",
      "Number in list: [1, 2, 3, 4]\n",
      "5\n",
      "Number in list: [1, 2, 3, 4, 5]\n",
      "6\n",
      "Number in list: [1, 2, 3, 4, 5, 6]\n",
      "7\n",
      "Number in list: [1, 2, 3, 4, 5, 6, 7]\n",
      "8\n",
      "Number in list: [1, 2, 3, 4, 5, 6, 7, 8]\n",
      "9\n",
      "Number in list: [1, 2, 3, 4, 5, 6, 7, 8, 9]\n",
      "0\n",
      "Number in list: [1, 2, 3, 4, 5, 6, 7, 8, 9, 0]\n"
     ]
    }
   ],
   "source": [
    "a = []\n",
    "for i in range(0, 10):\n",
    "    k = int(input())\n",
    "    a.append(k) \n",
    "    print(\"Number in list:\", a)\n",
    "    "
   ]
  },
  {
   "cell_type": "markdown",
   "metadata": {
    "id": "ZrjtT-I_U1zD"
   },
   "source": [
    "## Task 2\n",
    "\n",
    "Write a Python program that takes a list as an input from the user.Then creates a new list excluding the first and last two elements of the given list and prints the new list. If there are not enough elements in the list to do the task, the print \"Not possible\".\n",
    "\n",
    "**Note:** You may use list slicing.\n",
    "\n",
    "===================================================================\n",
    "\n",
    "**Sample Input 1:**<br/>\n",
    "[10, 20, 24, 25, 26, 35, 70]<br/>\n",
    "**Sample Output 1:**<br/>\n",
    "[24, 25, 26]<br/>\n",
    "\n",
    "===================================================================\n",
    "\n",
    "**Sample Input 2:**<br/>\n",
    "[10, 20, 24, 25, 26]<br/>\n",
    "**Sample Output 2:**<br/>\n",
    "[24]<br/>\n",
    "\n",
    "===================================================================\n",
    "\n",
    "**Sample Input 3:**<br/>\n",
    "[10, 20, 24, 25]<br/>\n",
    "**Sample Output 3:**<br/>\n",
    "[]<br/>\n",
    "\n",
    "===================================================================\n",
    "\n",
    "**Sample Input 4:**<br/>\n",
    "[10, 20, 24]<br/>\n",
    "**Sample Output 4:**<br/>\n",
    "Not possible<br/>\n",
    "\n",
    "==================================================================="
   ]
  },
  {
   "cell_type": "code",
   "execution_count": 34,
   "metadata": {
    "id": "3r7Ripj7U1zE"
   },
   "outputs": [
    {
     "name": "stdout",
     "output_type": "stream",
     "text": [
      "Enter the size of your list: 5\n",
      "1\n",
      "2\n",
      "3\n",
      "4\n",
      "5\n",
      "Your Given List is:  [1, 2, 3, 4, 5]\n",
      "[3]\n"
     ]
    }
   ],
   "source": [
    "a = []\n",
    "n = int(input(\"Enter the size of your list: \"))\n",
    "for i in range(0, n):\n",
    "    k = int(input())\n",
    "    a.append(k) \n",
    "print(\"Your Given List is: \", a);\n",
    "\n",
    "if n <= 3:\n",
    "    print(\"Not Possible\")    \n",
    "else:\n",
    "    print(a[2:n-2])"
   ]
  },
  {
   "cell_type": "markdown",
   "metadata": {
    "id": "AWgZaBZCzmaM"
   },
   "source": [
    "### Task 3\n",
    "\n",
    "Write a python program that reads 5 numbers from the user into a list, and then prints them in the reverse order.\n",
    "\n",
    "*Hint: You may create a list to store the input numbers and then use loop to print them in reverse order*\n",
    "\n",
    "===================================================================\n",
    "\n",
    "**Sample Input:**\\\n",
    "5\\\n",
    "-5\\\n",
    "100\\\n",
    "1\\\n",
    "0\n",
    "\n",
    "**Sample Output:**\\\n",
    "0\\\n",
    "1\\\n",
    "100\\\n",
    "-5\\\n",
    "5\n",
    "\n",
    "==================================================================="
   ]
  },
  {
   "cell_type": "code",
   "execution_count": 46,
   "metadata": {
    "id": "ICW-03YOznTp"
   },
   "outputs": [
    {
     "name": "stdout",
     "output_type": "stream",
     "text": [
      "Enter Input: 1\n",
      "Enter Input: 2\n",
      "Enter Input: 3\n",
      "Enter Input: 4\n",
      "Enter Input: 5\n",
      "Output:  5\n",
      "Output:  4\n",
      "Output:  3\n",
      "Output:  2\n",
      "Output:  1\n"
     ]
    }
   ],
   "source": [
    "a = []\n",
    "for i in range(0, 5):\n",
    "    k = int(input(\"Enter Input: \"))\n",
    "    a.append(k)\n",
    "\n",
    "for i in range(4, -1, -1):\n",
    "    print(\"Output: \",a[i])\n"
   ]
  },
  {
   "cell_type": "markdown",
   "metadata": {
    "id": "7a_1pYjfU1zI"
   },
   "source": [
    "### Task 4\n",
    "Assume, you have been given two lists. [Your program should work for any two given lists; change the following lists and check whether your program works correctly for the code you have written]\n",
    "\n",
    "list_one = [1, 2, 3, 4, 5, 6, 7, 8, 9]\\\n",
    "list_two = [10, 11, 12, -13, -14, -15, -16]\n",
    "\n",
    "Write a Python program that creates a new list with all the **even elements** of both of the given lists and prints the new list.\n",
    "\n",
    "**Hint:** You may create a third list to store the even elements of the given lists.\n",
    "\n",
    "===================================================================\n",
    "\n",
    "**Output for the above lists:** [2, 4, 6, 8, 10, 12, -14, -16]\n",
    "\n",
    "==================================================================="
   ]
  },
  {
   "cell_type": "code",
   "execution_count": 49,
   "metadata": {
    "id": "vToa7yazU1zI"
   },
   "outputs": [
    {
     "name": "stdout",
     "output_type": "stream",
     "text": [
      "[2, 4, 6, 8, 10, 12, -14, -16]\n"
     ]
    }
   ],
   "source": [
    "list_one = [1, 2, 3, 4, 5, 6, 7, 8, 9]\n",
    "list_two = [10, 11, 12, -13, -14, -15, -16]\n",
    "list_even =[]\n",
    "for i in range (0, len(list_one)):\n",
    "    if list_one[i]%2==0:\n",
    "        list_even.append(list_one[i])\n",
    "        \n",
    "for i in range (0, len(list_two)):\n",
    "    if list_two[i]%2==0:\n",
    "        list_even.append(list_two[i])\n",
    "        \n",
    "print(list_even)"
   ]
  },
  {
   "cell_type": "markdown",
   "metadata": {
    "id": "QaD4hLn92EKT"
   },
   "source": [
    "### Task 5\n",
    "\n",
    "Write a Python program that takes numbers as input into a list, removes multiple occurences of any number and then finally prints a list **without duplicate values**.\n",
    "\n",
    "*Hint: You may create a third list to store the results. You can use membership operators (in, not in) to make sure no duplicates are added.*\n",
    "\n",
    "===================================================================\n",
    "\n",
    "**Sample Input 1:**<br/>\n",
    "0, 0, 1, 2, 3, 4, 4, 5, 6, 6, 6, 7, 8, 9, 4, 4<br/>\n",
    "\n",
    "\n",
    "**Sample Output 1:**<br/>\n",
    "[0, 1, 2, 3, 4, 5, 6, 7, 8, 9]<br/>\n",
    "\n",
    "===================================================================\n",
    "\n",
    "**Sample Input 2:**<br/>\n",
    "7, 7, 7, 1, 0, 3, 3, 55, 9<br/>\n",
    "\n",
    "\n",
    "**Sample Output 2:**<br/>\n",
    "[7, 1, 0, 3, 55, 9]<br/>\n",
    "\n",
    "==================================================================="
   ]
  },
  {
   "cell_type": "code",
   "execution_count": 81,
   "metadata": {
    "id": "EUbQbz5hU1zP"
   },
   "outputs": [
    {
     "name": "stdout",
     "output_type": "stream",
     "text": [
      "Enter the size of your list: 10\n",
      "1\n",
      "1\n",
      "2\n",
      "2\n",
      "3\n",
      "3\n",
      "4\n",
      "4\n",
      "5\n",
      "5\n",
      "Your Given List is:  [1, 1, 2, 2, 3, 3, 4, 4, 5, 5]\n",
      "[1, 2, 3, 4, 5]\n"
     ]
    }
   ],
   "source": [
    "a = []\n",
    "n = int(input(\"Enter the size of your list: \"))\n",
    "for i in range(0, n):\n",
    "    k = int(input())\n",
    "    a.append(k) \n",
    "print(\"Your Given List is: \", a);\n",
    "\n",
    "i = 0\n",
    "while i < len(a):\n",
    "    j = i + 1\n",
    "    while j < len(a):\n",
    "        if a[i] == a[j]:\n",
    "            del a[j]\n",
    "        else:\n",
    "            j += 1\n",
    "    i += 1\n",
    "\n",
    "print(a)"
   ]
  },
  {
   "cell_type": "markdown",
   "metadata": {
    "id": "wfcSytFVU1zU"
   },
   "source": [
    "### Task 6\n",
    "\n",
    "Write a Python program that reads 5 numbers into a list and prints the largest number and its location or index position on the list. <font color='red'>[You are not allowed to use the max(), sort(), sorted() function here]</font>\n",
    "\n",
    "**Hint:** Assume the first input to be the largest value initially and the largest value’s location to be 0.\n",
    "\n",
    "**Note:** You may need to be careful while printing the output. Depending on your code, you might need data conversion.\n",
    "\n",
    "===================================================================\n",
    "\n",
    "**Sample Input:**\\\n",
    " 7, 13, 2, 10, 6\n",
    "\n",
    "**Sample Output:**\\\n",
    "My list: [7, 13, 2, 10, 6]\\\n",
    "Largest number in the list is 13 which was found at index 1.\n",
    "\n",
    "==================================================================="
   ]
  },
  {
   "cell_type": "code",
   "execution_count": 90,
   "metadata": {
    "id": "kXbEh1t3U1zV"
   },
   "outputs": [
    {
     "name": "stdout",
     "output_type": "stream",
     "text": [
      "Enter the size of your list: 5\n",
      "12\n",
      "213\n",
      "435\n",
      "21\n",
      "3\n",
      "Your Given List is:  [12, 213, 435, 21, 3]\n",
      "Largest Number Is:  435\n",
      "Which was found at index 2\n"
     ]
    }
   ],
   "source": [
    "a = []\n",
    "n = int(input(\"Enter the size of your list: \"))\n",
    "for i in range(0, n):\n",
    "    k = int(input())\n",
    "    a.append(k) \n",
    "print(\"Your Given List is: \", a);\n",
    "b = list(a)\n",
    "temp\n",
    "\n",
    "\n",
    "#Sorting the list\n",
    "\n",
    "for i in range (0,n):\n",
    "    for j in range (i+1, n):\n",
    "        if b[i]>b[j]:\n",
    "            temp = b[i]\n",
    "            b[i] = b[j]  \n",
    "            b[j] = temp\n",
    "            \n",
    "print(\"Largest Number Is: \", b[n-1]) \n",
    "\n",
    "s = b[n-1]\n",
    "\n",
    "#Locating the Index\n",
    "for i in range (0,n):\n",
    "    if s == a[i]:\n",
    "        print(\"Which was found at index\", i)\n",
    "\n",
    "    "
   ]
  },
  {
   "cell_type": "markdown",
   "metadata": {
    "id": "nwRZ3_0tC3fq"
   },
   "source": [
    "### Task 7\n",
    "\n",
    "\n",
    "Assume, you have been given two lists. [Your program should work for any two given lists; make changes to the lists below and check whether your program works correctly]\n",
    "\n",
    "list_one = [1, 2 , 2, 4, 5, 5, 7, 99, 200, 303, 70]\\\n",
    "list_two = [1, 1, 2, 3, 3, 3, 4, 5, 200, 500, -5]\n",
    "\n",
    "Write a Python program that creates a new list with all the **unique elements** of both the given lists. \n",
    "<font color='red'> **You need to make sure that there are no duplicates in the resulting list.**</font> Finally, print the updated list.\n",
    "\n",
    "**Hint:** You may create a third list to store the results. You can use membership operators (in, not in) to make sure no duplicates are added.\n",
    "\n",
    "===================================================================\n",
    "\n",
    "**Output for the above two lists**: \n",
    "[1, 2, 4, 5, 7, 99, 200, 303, 70, 3, 500, -5]\n",
    "\n",
    "===================================================================\n",
    "\n"
   ]
  },
  {
   "cell_type": "code",
   "execution_count": 2,
   "metadata": {
    "id": "LEnaTlyoMJdS"
   },
   "outputs": [
    {
     "name": "stdout",
     "output_type": "stream",
     "text": [
      "[1, 2, 4, 5, 6, 888, 7, 99, 200, 303, 70, 3, 500, 700, 695]\n"
     ]
    }
   ],
   "source": [
    "list_one = [1, 2 , 2, 4, 5,6,6,888,888, 5, 7, 99, 200, 303, 70]\n",
    "list_two = [1, 1, 2, 3, 3, 3, 4, 5, 200, 500,700,700 -5]\n",
    "\n",
    "new_list = list_one + list_two\n",
    "\n",
    "i = 0\n",
    "while i < len(new_list):\n",
    "    j = i + 1\n",
    "    while j < len(new_list):\n",
    "        if new_list[i] == new_list[j]:\n",
    "            del new_list[j]\n",
    "        else:\n",
    "            j += 1\n",
    "    i += 1\n",
    "\n",
    "\n",
    "print(new_list)"
   ]
  },
  {
   "cell_type": "markdown",
   "metadata": {
    "id": "bvF30RQlemBW"
   },
   "source": [
    "### Task 8\n",
    "\n",
    "Write a Python program that takes two lists and prints True if they have at least one common member.\n",
    "\n",
    "===================================================================\n",
    "\n",
    "**Sample Input 1:**\\\n",
    "List_one : [1, 4, 3, 2, 6]\\\n",
    "List_two : [5, 6, 9, 8, 7]\n",
    "\n",
    "**Sample Output 1:**\\\n",
    "True\n",
    "\n",
    "===================================================================\n",
    "\n",
    "**Sample Input 2:**\\\n",
    "List_one : [1, 4, 3, 2, 5]\\\n",
    "List_two : [8, 7, 6, 9]\n",
    "\n",
    "**Sample Output 2:**\\\n",
    "False\n",
    "\n",
    "===================================================================\n"
   ]
  },
  {
   "cell_type": "code",
   "execution_count": 26,
   "metadata": {
    "id": "yIlAlqlGe7IA"
   },
   "outputs": [
    {
     "name": "stdout",
     "output_type": "stream",
     "text": [
      "False\n"
     ]
    }
   ],
   "source": [
    "list1=[1,2,3,4,5,6,7,8,9]\n",
    "list2=[10,11,12,13,14,15,15,17,18,19,20]\n",
    "m =0\n",
    "for i in range (len(list1)):\n",
    "    for k in range (len(list2)):\n",
    "        if list1[i]==list2[k]:\n",
    "            m = m + 1\n",
    "if m==0:\n",
    "    print(False)\n",
    "else:\n",
    "    print(True)"
   ]
  },
  {
   "cell_type": "markdown",
   "metadata": {
    "id": "vyFt-Ra5erR4"
   },
   "source": [
    "### Task 9\n",
    "\n",
    "Write a Python program that reads 10 numbers into a list and prints the numbers of that specified list after removing **even numbers** from it.\n",
    "\n",
    "=========================================================================\n",
    "\n",
    "**Sample Input:**\n",
    "\n",
    "7,12,4,55,96,2,11,61,33,42\n",
    "\n",
    "**Sample Output:**\n",
    "\n",
    "[7, 55, 11, 61, 33]\n",
    "\n",
    "=========================================================================\n",
    "\n",
    "\n",
    "\n"
   ]
  },
  {
   "cell_type": "code",
   "execution_count": 35,
   "metadata": {
    "id": "1U3bswq9e9B3"
   },
   "outputs": [
    {
     "name": "stdout",
     "output_type": "stream",
     "text": [
      "Enter the size of your list: 10\n",
      "Give Input of Your List: 1\n",
      "Give Input of Your List: 2\n",
      "Give Input of Your List: 3\n",
      "Give Input of Your List: 4\n",
      "Give Input of Your List: 5\n",
      "Give Input of Your List: 6\n",
      "Give Input of Your List: 7\n",
      "Give Input of Your List: 8\n",
      "Give Input of Your List: 9\n",
      "Give Input of Your List: 10\n",
      "[1, 3, 5, 7, 9]\n"
     ]
    }
   ],
   "source": [
    "a = []\n",
    "n = int(input(\"Enter the size of your list: \"))\n",
    "for i in range(0, n):\n",
    "    k = int(input(\"Give Input of Your List: \"))\n",
    "    a.append(k) \n",
    "\n",
    "\n",
    "list_odd =[]\n",
    "for i in range (0, len(a)):\n",
    "    if a[i]%2!=0:\n",
    "        list_odd.append(a[i])\n",
    "        \n",
    "print(list_odd)\n",
    "    "
   ]
  },
  {
   "cell_type": "markdown",
   "metadata": {
    "id": "G9jPuLWOetqd"
   },
   "source": [
    "### Task 10\n",
    "\n",
    "Write a Python program that removes all Empty strings from a given list and print the new list.\n",
    "\n",
    "=========================================================================\n",
    "\n",
    "**Sample Input:**\n",
    "\n",
    "[\"hey\", \"there\", \" \", \"what's\", \" \", \"up\", \" \", \"?\"]\n",
    "\n",
    "**Sample Output:**\n",
    "\n",
    "Original List:\n",
    "[\"hey\", \"there\", \" \", \"what's\", \" \", \"up\", \" \", \"?\"]\n",
    "\n",
    "Modified List:\n",
    "[\"hey\", \"there\", \"what's\", \"up\", \"?\"]\n",
    "\n",
    "==========================================================================\n",
    "\n",
    "\n"
   ]
  },
  {
   "cell_type": "code",
   "execution_count": 67,
   "metadata": {
    "id": "OlrhifBge-TA"
   },
   "outputs": [
    {
     "name": "stdout",
     "output_type": "stream",
     "text": [
      "['hey', 'there', \"what's\", 'up', '?']\n"
     ]
    }
   ],
   "source": [
    "a = [\"hey\", \"there\", \" \", \"what's\", \" \", \"up\", \" \", \"?\"]\n",
    "b = []\n",
    "for i in a:\n",
    "    if i==\" \":\n",
    "        a.remove(i)\n",
    "print(a)\n"
   ]
  },
  {
   "cell_type": "markdown",
   "metadata": {
    "id": "UjTy79X6ewce"
   },
   "source": [
    "## Task 11\n",
    "\n",
    "Write a Python program that replaces the last element of first list with second list.\n",
    "\n",
    "===================================================================\n",
    "\n",
    "**Sample Input 1:**\\\n",
    "List_one : [1, 4, 7, 5]\\\n",
    "List_two : [6, 1, 3, 9]\n",
    "\n",
    "**Sample Output 1:**\\\n",
    "[1, 4, 7, 6, 1, 3, 9]\n",
    "\n",
    "===================================================================\n",
    "\n",
    "**Sample Input 2:**\\\n",
    "List_one : [1, 3, 5, 7, 9, 10]\\\n",
    "List_two : [2, 4, 6, 8]\n",
    "\n",
    "**Sample Output 2:**\\\n",
    "[1, 3, 5, 7, 9, 2, 4, 6, 8]\n",
    "\n",
    "===================================================================\n",
    "\n",
    "\n",
    "\n"
   ]
  },
  {
   "cell_type": "code",
   "execution_count": 80,
   "metadata": {
    "id": "bBseKJuse_bX"
   },
   "outputs": [
    {
     "name": "stdout",
     "output_type": "stream",
     "text": [
      "[1, 4, 7, 5, 12, 12, 7, 88, 9, 6, 1, 3, 9]\n"
     ]
    }
   ],
   "source": [
    "List_one = [1, 4, 7, 5, 12, 12, 14]\n",
    "List_two = [7, 88, 9, 6, 1, 3, 9]\n",
    "    \n",
    "List_one.remove(List_one[len(List_one)-1])\n",
    "\n",
    "k = List_one + List_two\n",
    "print(k)"
   ]
  },
  {
   "cell_type": "markdown",
   "metadata": {
    "id": "4pBLPmvre0jv"
   },
   "source": [
    "### Task 12\n",
    "\n",
    "Write a Python program that turns every item of a list into its square.\n",
    "\n",
    "===================================================================\n",
    "\n",
    "**Sample Input 1:**\\\n",
    "[1, 2, 3, 4, 5, 6, 7]\n",
    "\n",
    "**Sample Output 1:**\\\n",
    "[1, 4, 9, 16, 25, 36, 49]\n",
    "\n",
    "===================================================================\n",
    "\n",
    "**Sample Input 2:**\\\n",
    "[3, 5, 1, 6]\n",
    "\n",
    "**Sample Output 2:**\\\n",
    "[9, 25, 1, 36]\n",
    "\n",
    "\n",
    "===================================================================\n",
    "\n",
    "\n",
    "\n",
    "\n",
    "\n"
   ]
  },
  {
   "cell_type": "code",
   "execution_count": 82,
   "metadata": {
    "id": "5NDg0odDfANt"
   },
   "outputs": [
    {
     "name": "stdout",
     "output_type": "stream",
     "text": [
      "[1, 4, 9, 16, 25, 36, 49, 10201]\n"
     ]
    }
   ],
   "source": [
    "a = [1, 2, 3, 4, 5, 6, 7, 101]\n",
    "for i in range (len(a)):\n",
    "    a[i]= a[i]*a[i]\n",
    "print(a)"
   ]
  },
  {
   "cell_type": "markdown",
   "metadata": {
    "id": "WZXnxHTdGrMC"
   },
   "source": [
    "## Optional Tasks (13-15) [Ungraded]"
   ]
  },
  {
   "cell_type": "markdown",
   "metadata": {
    "id": "lvSiLaobU1zY"
   },
   "source": [
    "### Task 13\n",
    "\n",
    "Write a Python program that reads 5 numbers into a list and prints the smallest and largest number and their locations in the list. <font color='red'>[You are not allowed to use the max(), min(), sort(), sorted() functions here]</font>\n",
    "\n",
    "**Hint:** You may assume the first input to be the largest value initially and the largest value’s location to be 0. Similarly, you can assume the first input to be the smallest value initially and the smallest value’s location to be 0. \n",
    "\n",
    "**Note:** You may need to be careful while printing the output. Depending on your code, you might need data conversion.\n",
    "\n",
    "===================================================================\n",
    "\n",
    "**Sample Input:**\\\n",
    "7, 13, -5, 10, 6\n",
    "\n",
    "**Sample Output:**\\\n",
    "My list: [7, 13, -5, 10, 6]\\\n",
    "Smallest number in the list is -5 which was found at index 2\\\n",
    "Largest number in the list is 13 which was found at index 1\n",
    "\n",
    "==================================================================="
   ]
  },
  {
   "cell_type": "code",
   "execution_count": null,
   "metadata": {
    "id": "yiS5TWSDU1zY"
   },
   "outputs": [],
   "source": [
    "#to do"
   ]
  },
  {
   "cell_type": "markdown",
   "metadata": {
    "id": "rguDZ8SBCHD8"
   },
   "source": [
    "### Task 14\n",
    "Write a Python program that takes two lists as an input from the user. Then print a new list with the **common elements** of both the input lists. \n",
    "\n",
    "*Hint: You may need to create a third list to store the results. You can use membership operators (in, not in) to make sure similar elements are added.*\n",
    "\n",
    "===================================================================\n",
    "\n",
    "**Sample Input 1:**<br/>\n",
    "A, B, C, D\n",
    "\n",
    "\n",
    "C, E , F, B\n",
    "\n",
    "\n",
    "**Sample Output 1:**<br/>\n",
    "['C', 'B']\n",
    "\n",
    "===================================================================\n",
    "\n",
    "**Sample Input 2:**<br/>\n",
    "1, 3, A, H, P\n",
    "\n",
    "\n",
    "A, G, 1, P, O\n",
    "\n",
    "\n",
    "**Sample Output 2:**<br/>\n",
    "['1', 'A', 'P']\n",
    "\n",
    "===================================================================\n"
   ]
  },
  {
   "cell_type": "code",
   "execution_count": null,
   "metadata": {
    "id": "3iueGiPPGG66"
   },
   "outputs": [],
   "source": [
    "# to do\n"
   ]
  },
  {
   "cell_type": "markdown",
   "metadata": {
    "id": "tjcE5oitCM2s"
   },
   "source": [
    "### Task 15\n",
    "\n",
    "\n",
    "Write a Python program that reads 5 numbers into a list and prints the second largest number and its location or index position on the list. <font color='red'>[You are not allowed to use the max(), sort(), sorted() function here]</font>\n",
    "\n",
    "===================================================================\n",
    "\n",
    "**Sample Input:**\\\n",
    " 7, 13, 2, 10, 6\n",
    "\n",
    "**Sample Output:**\\\n",
    "My list: [7, 13, 2, 10, 6]\\\n",
    "Second largest number in the list is 10 which was found at index 3.\n",
    "\n",
    "==================================================================="
   ]
  },
  {
   "cell_type": "code",
   "execution_count": 4,
   "metadata": {
    "id": "b2TwkUqnGZU-"
   },
   "outputs": [
    {
     "name": "stdout",
     "output_type": "stream",
     "text": [
      "Enter the size of your list: 5\n",
      "1\n",
      "2\n",
      "3\n",
      "4\n",
      "5\n",
      "Your 1st Given List is:  [1, 2, 3, 4, 5]\n",
      "Enter the size of your list: 5\n",
      "0\n",
      "9\n",
      "8\n",
      "7\n",
      "6\n",
      "Your 2nd Given List is:  [0, 9, 8, 7, 6]\n",
      "False\n"
     ]
    }
   ],
   "source": [
    "# list1=[1,2,3,4,5,6,7,8,9]\n",
    "# list2=[10,11,12,13,14,15,15,17,18,19,20]\n",
    "\n",
    "list1 = []\n",
    "n = int(input(\"Enter the size of your list: \"))\n",
    "for i in range(0, n):\n",
    "    k = int(input())\n",
    "    list1.append(k) \n",
    "print(\"Your 1st Given List is: \", list1);\n",
    "\n",
    "\n",
    "list2 = []\n",
    "n = int(input(\"Enter the size of your list: \"))\n",
    "for i in range(0, n):\n",
    "    k = int(input())\n",
    "    list2.append(k) \n",
    "print(\"Your 2nd Given List is: \", list2);\n",
    "\n",
    "\n",
    "\n",
    "\n",
    "m =0\n",
    "for i in range (len(list1)):\n",
    "    for k in range (len(list2)):\n",
    "        if list1[i]==list2[k]:\n",
    "            m = m + 1\n",
    "if m==0:\n",
    "    print(False)\n",
    "else:\n",
    "    print(True)\n"
   ]
  },
  {
   "cell_type": "code",
   "execution_count": null,
   "metadata": {},
   "outputs": [],
   "source": []
  }
 ],
 "metadata": {
  "colab": {
   "collapsed_sections": [],
   "name": "CSE110 Lab Assignment 4.ipynb",
   "provenance": []
  },
  "kernelspec": {
   "display_name": "Python 3",
   "language": "python",
   "name": "python3"
  },
  "language_info": {
   "codemirror_mode": {
    "name": "ipython",
    "version": 3
   },
   "file_extension": ".py",
   "mimetype": "text/x-python",
   "name": "python",
   "nbconvert_exporter": "python",
   "pygments_lexer": "ipython3",
   "version": "3.9.5"
  }
 },
 "nbformat": 4,
 "nbformat_minor": 1
}
