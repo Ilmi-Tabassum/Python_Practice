{
 "cells": [
  {
   "cell_type": "code",
   "execution_count": 30,
   "id": "c6c4856f",
   "metadata": {},
   "outputs": [
    {
     "name": "stdout",
     "output_type": "stream",
     "text": [
      "['go', 'there', 'come', 'and', 'go', 'here', 'and', 'there', 'go', 'care']\n"
     ]
    },
    {
     "data": {
      "text/plain": [
       "{'come': 1, 'here': 1, 'care': 1, 'there': 2, 'and': 2, 'go': 3}"
      ]
     },
     "execution_count": 30,
     "metadata": {},
     "output_type": "execute_result"
    }
   ],
   "source": [
    "def stringToDict(a):\n",
    "    dict1 = {} #defining dictionary\n",
    "    list1 = [] #defining list\n",
    "\n",
    "    \n",
    "    list1 = list(a.split(\" \")) #converting string to list by space \n",
    "    \n",
    "#     print(list1)\n",
    "    \n",
    "    dict1 = {i:list1.count(i) for i in list1} #finding the duplicates into the list and saving it in a dictionary\n",
    "    \n",
    "#     print(dict1)\n",
    "    \n",
    "    sortedDict = dict(sorted(dict1.items(), key=lambda x: x[1])) #sorting the dictionary\n",
    "\n",
    "    \n",
    "    return sortedDict\n",
    "\n",
    "\n",
    "a = \"go there come and go here and there go care\"\n",
    "stringToDict(a)"
   ]
  },
  {
   "cell_type": "code",
   "execution_count": 47,
   "id": "b1468ccb",
   "metadata": {},
   "outputs": [
    {
     "name": "stdout",
     "output_type": "stream",
     "text": [
      "['2', '4', '4', '1', '3', '9', '6']\n",
      "1 2 1 2 4 1 2 4 1 1 3 1 3 9 1 2 3 6 "
     ]
    },
    {
     "data": {
      "text/plain": [
       "{'2': ('Even', 'Prime', 'Not perfect'),\n",
       " '4': ('Even', 'Not Prime', 'Not perfect'),\n",
       " '1': ('Odd', 'Prime', 'Not perfect'),\n",
       " '3': ('Odd', 'Prime', 'Not perfect'),\n",
       " '9': ('Odd', 'Not Prime', 'Not perfect'),\n",
       " '6': ('Even', 'Not Prime', 'Perfect')}"
      ]
     },
     "execution_count": 47,
     "metadata": {},
     "output_type": "execute_result"
    }
   ],
   "source": [
    "def numberToDictionaryAndTuple(num):\n",
    "    list1 = list(num)\n",
    "    print(list1)\n",
    "    dict1 = {i: evenPrimePerfectDetector(int(i)) for i in list1}\n",
    "    return dict1\n",
    "\n",
    "numberToDictionaryAndTuple(\"2441396\")"
   ]
  },
  {
   "cell_type": "code",
   "execution_count": 8,
   "id": "bee3d5d3",
   "metadata": {},
   "outputs": [
    {
     "name": "stdout",
     "output_type": "stream",
     "text": [
      "1 7 "
     ]
    },
    {
     "data": {
      "text/plain": [
       "('Odd',\n",
       " 'Prime',\n",
       " 'Prime',\n",
       " 'Prime',\n",
       " 'Prime',\n",
       " 'Prime',\n",
       " 'Prime',\n",
       " 'Prime',\n",
       " 'Not perfect')"
      ]
     },
     "execution_count": 8,
     "metadata": {},
     "output_type": "execute_result"
    }
   ],
   "source": [
    "def evenPrimePerfectDetector(inp):\n",
    "    list1 = []\n",
    "    tup = ()\n",
    "    if (inp%2 == 0):\n",
    "        list1.append(\"Even\")\n",
    "    else:\n",
    "        list1.append(\"Odd\")\n",
    "    count =0\n",
    "    for i in range(1, inp+1):\n",
    "        if(inp % i == 0):\n",
    "            print(i,end = \" \")\n",
    "            count = count +1\n",
    "        if (count>2):\n",
    "            list1.append(\"Not Prime\")\n",
    "        else:\n",
    "            list1.append(\"Prime\")\n",
    "    Sum = 0\n",
    "    for i in range(1, inp):\n",
    "        if(inp % i == 0):\n",
    "            Sum = Sum + i\n",
    "    if (Sum == inp):\n",
    "        list1.append(\"Perfect\")\n",
    "    else:\n",
    "        list1.append(\"Not perfect\")\n",
    "    tup = tuple(list1)\n",
    "    return tup\n",
    "\n",
    "evenPrimePerfectDetector(7)\n",
    "    "
   ]
  },
  {
   "cell_type": "code",
   "execution_count": 69,
   "id": "dde2d90f",
   "metadata": {},
   "outputs": [
    {
     "name": "stdout",
     "output_type": "stream",
     "text": [
      "\n",
      "\n",
      "0\n",
      "Dimensions of the matrices matched.\n"
     ]
    }
   ],
   "source": [
    "def matrixAddition(matA, matB):\n",
    "    count = 0\n",
    "    if(len(matA)==len(matB)):\n",
    "        for i in range(0, len(matA)):\n",
    "            if(len(matA[i])==len(matB[i])):\n",
    "                print()\n",
    "            else:\n",
    "                count = count + 1\n",
    "                \n",
    "    print (count)\n",
    "    if(count==0):\n",
    "        print(\"Dimensions of the matrices matched.\")\n",
    "        mainCode(matA, matB)\n",
    "    else:\n",
    "        print(\"Dimensions of the matrices did not match.\")\n",
    "        \n",
    "    \n",
    "    \n",
    "a = [ [1,5] , [-4,3] ]\n",
    "b = [ [2,-1] , [4,-1] ]\n",
    "matrixAddition(a,b)"
   ]
  },
  {
   "cell_type": "code",
   "execution_count": 72,
   "id": "617c3748",
   "metadata": {},
   "outputs": [
    {
     "name": "stdout",
     "output_type": "stream",
     "text": [
      "1\n",
      "2\n",
      "3\n",
      "-1\n"
     ]
    },
    {
     "data": {
      "text/plain": [
       "[[1, 5, 2, -1], [-4, 3, 4, -1]]"
      ]
     },
     "execution_count": 72,
     "metadata": {},
     "output_type": "execute_result"
    }
   ],
   "source": [
    "def mainCode(matA, matB):\n",
    "    temp = 0\n",
    "    newList =  []\n",
    "    for i in range (0, len(matA)):\n",
    "        print(matA[i][i])\n",
    "        print(matB[i][i])\n",
    "        temp = matA[i]+matB[i]\n",
    "        newList.append(temp)\n",
    "        \n",
    "    return newList\n",
    "\n",
    "    \n",
    "a = [ [1,5] , [-4,3] ]\n",
    "b = [ [2,-1] , [4,-1] ]\n",
    "mainCode(a,b)"
   ]
  },
  {
   "cell_type": "code",
   "execution_count": 10,
   "id": "bcb1ad04",
   "metadata": {},
   "outputs": [
    {
     "name": "stdout",
     "output_type": "stream",
     "text": [
      "5\n",
      "enter your numbers: 1234\n",
      "enter your numbers: 1232\n",
      "enter your numbers: 4455\n",
      "enter your numbers: 1234343\n",
      "enter your numbers: 1111\n"
     ]
    },
    {
     "data": {
      "text/plain": [
       "(('1232', '4455', '1234343', '1111'), ('1234',))"
      ]
     },
     "execution_count": 10,
     "metadata": {},
     "output_type": "execute_result"
    }
   ],
   "source": [
    "#Todo\n",
    "\n",
    "list1 = []\n",
    "list2 = []\n",
    "magical = []\n",
    "nonMagical = []\n",
    "\n",
    "inp = int(input())\n",
    "\n",
    "for x in range (0, inp):\n",
    "    i = input(\"enter your numbers: \")\n",
    "    list1.append(i)\n",
    "\n",
    "#print(list1)\n",
    "\n",
    "\n",
    "def magicNumber(a):\n",
    "    for x in range (0, len(a)):\n",
    "        temp = a[x]\n",
    "        list2 = list(temp)\n",
    "        #print(list2)\n",
    "        even = 0\n",
    "        odd = 0\n",
    "        for y in range(0 , len(list2)):\n",
    "            if(y%2==0):\n",
    "                even = even + int(list2[y])\n",
    "            else:\n",
    "                odd = int(list2[y]) + odd\n",
    "            \n",
    "        if(even == odd):\n",
    "            magical.append(a[x])\n",
    "            #print(magical)\n",
    "        else:\n",
    "            nonMagical.append(a[x])\n",
    "            #print(nonMagical)\n",
    "\n",
    "    tup = tuple(magical), tuple(nonMagical)\n",
    "    return tup\n",
    "\n",
    "\n",
    "magicNumber(list1)\n"
   ]
  },
  {
   "cell_type": "markdown",
   "id": "0f17bd7b",
   "metadata": {},
   "source": [
    "## Question - 2\n",
    "\n",
    "Write a Python program that takes a tuple of tuples.\\\n",
    "Calculate the average value of the numbers for each tuple of tuples\\\n",
    "and find the tuple whose sum is the maximum.\n",
    "\n",
    "**<font color=\"red\">[Try to avoid built in functions]**\n",
    "\n",
    "**Sample Input:**\n",
    "\n",
    "((33, 22, 11), (30, 45, 56, 45,20), (81, 90, 39, 45), (1, 2, 3, 4,5,6))\n",
    "\n",
    "**Sample Output:**\n",
    "\n",
    "Average : [22.0, 39.2, 63.75, 3.5]\\\n",
    "Tuple with maximum sum : (81, 90, 39, 45)\n"
   ]
  },
  {
   "cell_type": "code",
   "execution_count": 57,
   "id": "1d31386c",
   "metadata": {},
   "outputs": [
    {
     "name": "stdout",
     "output_type": "stream",
     "text": [
      "Average:  [22.0, 39.2, 63.75, 3.5]\n",
      "(81, 90, 39, 45)\n"
     ]
    }
   ],
   "source": [
    "tup = ((33, 22, 11), (30, 45, 56, 45,20), (81, 90, 39, 45), (1, 2, 3, 4,5,6))\n",
    "\n",
    "temp = []\n",
    "\n",
    "store = []\n",
    "\n",
    "summ = 0\n",
    "\n",
    "list1 = list(tup)\n",
    "\n",
    "# print(list1)\n",
    "\n",
    "for x in range (0, len(list1)):\n",
    "    temp = list(list1[x])\n",
    "    \n",
    "    summ = 0 \n",
    "    \n",
    "    for y in range(0, len(temp)):\n",
    "        summ = temp[y] + summ\n",
    "    \n",
    "    avg = summ/len(temp)\n",
    "    store.append(avg)\n",
    "    \n",
    "print(\"Average: \", store)\n",
    "\n",
    "    #the highest average number in store[] has the highest tuple number\n",
    "    #so need to find the index of the highest average number\n",
    "highest = max(store)\n",
    "indexHighest = store.index(highest)\n",
    "print(list1[indexHighest])"
   ]
  },
  {
   "cell_type": "markdown",
   "id": "5557b41a",
   "metadata": {},
   "source": [
    "### Question - 3\n",
    "We all know that the additive primaries are red, green, and blue.\\\n",
    "Now, write a Python program that will take a color sequence as a string\\\n",
    "from the user where R represents Red , G represents Green and B represents Blue.\\\n",
    "The program should print the choice of colors that is actually a tuple\\\n",
    "containing the sub-tuples as (color_name, color_frequency) if\\\n",
    "the color_frequency for that color is at least one in the given color sequence.\n",
    "\n",
    "**Sample Input:**\n",
    "\n",
    "RGBRRGBBR\n",
    "\n",
    "**Sample Output:**\n",
    "\n",
    "((′Red′,4),(′Green′,2),(′Blue′,3))"
   ]
  },
  {
   "cell_type": "code",
   "execution_count": 40,
   "id": "947b7925",
   "metadata": {},
   "outputs": [
    {
     "name": "stdout",
     "output_type": "stream",
     "text": [
      "['R', 'G', 'B', 'R', 'R', 'G', 'B', 'B', 'R']\n",
      "R 4\n",
      "G 2\n",
      "B 3\n",
      "R 4\n",
      "R 4\n",
      "G 2\n",
      "B 3\n",
      "B 3\n",
      "R 4\n"
     ]
    }
   ],
   "source": [
    "string = \"RGBRRGBBR\"\n",
    "\n",
    "list1 = list(string)\n",
    "print(list1)\n",
    "for i in list1:\n",
    "    a = list1.count(i)\n",
    "    print(i , a)\n",
    "    "
   ]
  },
  {
   "cell_type": "markdown",
   "id": "c88df269",
   "metadata": {},
   "source": [
    "## Question - 6\n",
    "An Agent has three normal skills along with an ultimate skill. Furthermore, there are\\\n",
    "three agents in the game named after Rage , Jett and Sage .Now, write a Python\\\n",
    "program that will detect the Agent from a given dictionary where the keys are \"Normal\\\n",
    "Skills\", \"Ultimate Skill\" and the values are the damages due to the use of the skills on the\\\n",
    "opponents.\n",
    "\n",
    "Additive Damage Score: SUM_TOTAL(NORMAL_SKILL_DAMAGE,\\\n",
    "ULTIMATE_SKILL_DAMAGE)\n",
    "\n",
    "Constraints:\n",
    "1. If the additive damage score is less than or equal to 70 then it is Rage .\n",
    "2. Else If the additive damage score is less than or equal to 100 then it is Jett .\n",
    "3. Else it is Sage .\n",
    "\n",
    "**Sample Input:**\n",
    "\n",
    "Assume a dictionary,\\\n",
    "d = { \"Normal Skills\":[10,15,20], \"Ultimate Skill\":50 }\n",
    "\n",
    "**Sample Output:**\n",
    "\n",
    "Jett\n"
   ]
  },
  {
   "cell_type": "code",
   "execution_count": 5,
   "id": "f2d12329",
   "metadata": {},
   "outputs": [
    {
     "name": "stdout",
     "output_type": "stream",
     "text": [
      "45\n",
      "50\n"
     ]
    }
   ],
   "source": [
    "d = { \"Normal Skills\":[10,15,20], \"Ultimate Skill\":50 }\n",
    "s1 = 0\n",
    "for key, val in d.items():\n",
    "    if (key == \"Normal Skills\"):\n",
    "        print(sum(val))\n",
    "    else:\n",
    "        s1 = s1 + val\n",
    "        \n",
    "print(s1)"
   ]
  },
  {
   "cell_type": "code",
   "execution_count": null,
   "id": "0d8f236a",
   "metadata": {},
   "outputs": [],
   "source": []
  },
  {
   "cell_type": "code",
   "execution_count": null,
   "id": "2ae9004a",
   "metadata": {},
   "outputs": [],
   "source": []
  },
  {
   "cell_type": "code",
   "execution_count": null,
   "id": "451e96cc",
   "metadata": {},
   "outputs": [],
   "source": []
  }
 ],
 "metadata": {
  "kernelspec": {
   "display_name": "Python 3",
   "language": "python",
   "name": "python3"
  },
  "language_info": {
   "codemirror_mode": {
    "name": "ipython",
    "version": 3
   },
   "file_extension": ".py",
   "mimetype": "text/x-python",
   "name": "python",
   "nbconvert_exporter": "python",
   "pygments_lexer": "ipython3",
   "version": "3.9.6"
  }
 },
 "nbformat": 4,
 "nbformat_minor": 5
}
